{
  "nbformat": 4,
  "nbformat_minor": 0,
  "metadata": {
    "colab": {
      "name": "sentiment analysis.ipynb",
      "provenance": []
    },
    "kernelspec": {
      "name": "python3",
      "display_name": "Python 3"
    },
    "language_info": {
      "name": "python"
    }
  },
  "cells": [
    {
      "cell_type": "markdown",
      "source": [
        "## Sentiment Analysis for Sexist Language in LinkedIn Job Ads\n",
        "### Berra Karayel\n",
        "### 0054477"
      ],
      "metadata": {
        "id": "KHCf_1glMN4E"
      }
    },
    {
      "cell_type": "code",
      "source": [
        "pip install pandas matplotlib tensorflow"
      ],
      "metadata": {
        "colab": {
          "base_uri": "https://localhost:8080/"
        },
        "id": "ziO_EJnKMR-D",
        "outputId": "f7bb463f-f6a5-4164-9737-5f01a72e33d1"
      },
      "execution_count": null,
      "outputs": [
        {
          "output_type": "stream",
          "name": "stdout",
          "text": [
            "Looking in indexes: https://pypi.org/simple, https://us-python.pkg.dev/colab-wheels/public/simple/\n",
            "Requirement already satisfied: pandas in /usr/local/lib/python3.7/dist-packages (1.3.5)\n",
            "Requirement already satisfied: matplotlib in /usr/local/lib/python3.7/dist-packages (3.2.2)\n",
            "Requirement already satisfied: tensorflow in /usr/local/lib/python3.7/dist-packages (2.8.2+zzzcolab20220527125636)\n",
            "Requirement already satisfied: pytz>=2017.3 in /usr/local/lib/python3.7/dist-packages (from pandas) (2022.1)\n",
            "Requirement already satisfied: python-dateutil>=2.7.3 in /usr/local/lib/python3.7/dist-packages (from pandas) (2.8.2)\n",
            "Requirement already satisfied: numpy>=1.17.3 in /usr/local/lib/python3.7/dist-packages (from pandas) (1.21.6)\n",
            "Requirement already satisfied: six>=1.5 in /usr/local/lib/python3.7/dist-packages (from python-dateutil>=2.7.3->pandas) (1.15.0)\n",
            "Requirement already satisfied: pyparsing!=2.0.4,!=2.1.2,!=2.1.6,>=2.0.1 in /usr/local/lib/python3.7/dist-packages (from matplotlib) (3.0.9)\n",
            "Requirement already satisfied: cycler>=0.10 in /usr/local/lib/python3.7/dist-packages (from matplotlib) (0.11.0)\n",
            "Requirement already satisfied: kiwisolver>=1.0.1 in /usr/local/lib/python3.7/dist-packages (from matplotlib) (1.4.2)\n",
            "Requirement already satisfied: typing-extensions in /usr/local/lib/python3.7/dist-packages (from kiwisolver>=1.0.1->matplotlib) (4.2.0)\n",
            "Requirement already satisfied: h5py>=2.9.0 in /usr/local/lib/python3.7/dist-packages (from tensorflow) (3.1.0)\n",
            "Requirement already satisfied: setuptools in /usr/local/lib/python3.7/dist-packages (from tensorflow) (57.4.0)\n",
            "Requirement already satisfied: grpcio<2.0,>=1.24.3 in /usr/local/lib/python3.7/dist-packages (from tensorflow) (1.46.3)\n",
            "Requirement already satisfied: libclang>=9.0.1 in /usr/local/lib/python3.7/dist-packages (from tensorflow) (14.0.1)\n",
            "Requirement already satisfied: absl-py>=0.4.0 in /usr/local/lib/python3.7/dist-packages (from tensorflow) (1.0.0)\n",
            "Requirement already satisfied: keras-preprocessing>=1.1.1 in /usr/local/lib/python3.7/dist-packages (from tensorflow) (1.1.2)\n",
            "Requirement already satisfied: google-pasta>=0.1.1 in /usr/local/lib/python3.7/dist-packages (from tensorflow) (0.2.0)\n",
            "Requirement already satisfied: tensorflow-io-gcs-filesystem>=0.23.1 in /usr/local/lib/python3.7/dist-packages (from tensorflow) (0.26.0)\n",
            "Requirement already satisfied: termcolor>=1.1.0 in /usr/local/lib/python3.7/dist-packages (from tensorflow) (1.1.0)\n",
            "Requirement already satisfied: gast>=0.2.1 in /usr/local/lib/python3.7/dist-packages (from tensorflow) (0.5.3)\n",
            "Requirement already satisfied: protobuf<3.20,>=3.9.2 in /usr/local/lib/python3.7/dist-packages (from tensorflow) (3.17.3)\n",
            "Requirement already satisfied: tensorflow-estimator<2.9,>=2.8 in /usr/local/lib/python3.7/dist-packages (from tensorflow) (2.8.0)\n",
            "Requirement already satisfied: keras<2.9,>=2.8.0rc0 in /usr/local/lib/python3.7/dist-packages (from tensorflow) (2.8.0)\n",
            "Requirement already satisfied: opt-einsum>=2.3.2 in /usr/local/lib/python3.7/dist-packages (from tensorflow) (3.3.0)\n",
            "Requirement already satisfied: tensorboard<2.9,>=2.8 in /usr/local/lib/python3.7/dist-packages (from tensorflow) (2.8.0)\n",
            "Requirement already satisfied: astunparse>=1.6.0 in /usr/local/lib/python3.7/dist-packages (from tensorflow) (1.6.3)\n",
            "Requirement already satisfied: wrapt>=1.11.0 in /usr/local/lib/python3.7/dist-packages (from tensorflow) (1.14.1)\n",
            "Requirement already satisfied: flatbuffers>=1.12 in /usr/local/lib/python3.7/dist-packages (from tensorflow) (2.0)\n",
            "Requirement already satisfied: wheel<1.0,>=0.23.0 in /usr/local/lib/python3.7/dist-packages (from astunparse>=1.6.0->tensorflow) (0.37.1)\n",
            "Requirement already satisfied: cached-property in /usr/local/lib/python3.7/dist-packages (from h5py>=2.9.0->tensorflow) (1.5.2)\n",
            "Requirement already satisfied: markdown>=2.6.8 in /usr/local/lib/python3.7/dist-packages (from tensorboard<2.9,>=2.8->tensorflow) (3.3.7)\n",
            "Requirement already satisfied: requests<3,>=2.21.0 in /usr/local/lib/python3.7/dist-packages (from tensorboard<2.9,>=2.8->tensorflow) (2.23.0)\n",
            "Requirement already satisfied: google-auth<3,>=1.6.3 in /usr/local/lib/python3.7/dist-packages (from tensorboard<2.9,>=2.8->tensorflow) (1.35.0)\n",
            "Requirement already satisfied: werkzeug>=0.11.15 in /usr/local/lib/python3.7/dist-packages (from tensorboard<2.9,>=2.8->tensorflow) (1.0.1)\n",
            "Requirement already satisfied: tensorboard-data-server<0.7.0,>=0.6.0 in /usr/local/lib/python3.7/dist-packages (from tensorboard<2.9,>=2.8->tensorflow) (0.6.1)\n",
            "Requirement already satisfied: tensorboard-plugin-wit>=1.6.0 in /usr/local/lib/python3.7/dist-packages (from tensorboard<2.9,>=2.8->tensorflow) (1.8.1)\n",
            "Requirement already satisfied: google-auth-oauthlib<0.5,>=0.4.1 in /usr/local/lib/python3.7/dist-packages (from tensorboard<2.9,>=2.8->tensorflow) (0.4.6)\n",
            "Requirement already satisfied: cachetools<5.0,>=2.0.0 in /usr/local/lib/python3.7/dist-packages (from google-auth<3,>=1.6.3->tensorboard<2.9,>=2.8->tensorflow) (4.2.4)\n",
            "Requirement already satisfied: rsa<5,>=3.1.4 in /usr/local/lib/python3.7/dist-packages (from google-auth<3,>=1.6.3->tensorboard<2.9,>=2.8->tensorflow) (4.8)\n",
            "Requirement already satisfied: pyasn1-modules>=0.2.1 in /usr/local/lib/python3.7/dist-packages (from google-auth<3,>=1.6.3->tensorboard<2.9,>=2.8->tensorflow) (0.2.8)\n",
            "Requirement already satisfied: requests-oauthlib>=0.7.0 in /usr/local/lib/python3.7/dist-packages (from google-auth-oauthlib<0.5,>=0.4.1->tensorboard<2.9,>=2.8->tensorflow) (1.3.1)\n",
            "Requirement already satisfied: importlib-metadata>=4.4 in /usr/local/lib/python3.7/dist-packages (from markdown>=2.6.8->tensorboard<2.9,>=2.8->tensorflow) (4.11.4)\n",
            "Requirement already satisfied: zipp>=0.5 in /usr/local/lib/python3.7/dist-packages (from importlib-metadata>=4.4->markdown>=2.6.8->tensorboard<2.9,>=2.8->tensorflow) (3.8.0)\n",
            "Requirement already satisfied: pyasn1<0.5.0,>=0.4.6 in /usr/local/lib/python3.7/dist-packages (from pyasn1-modules>=0.2.1->google-auth<3,>=1.6.3->tensorboard<2.9,>=2.8->tensorflow) (0.4.8)\n",
            "Requirement already satisfied: chardet<4,>=3.0.2 in /usr/local/lib/python3.7/dist-packages (from requests<3,>=2.21.0->tensorboard<2.9,>=2.8->tensorflow) (3.0.4)\n",
            "Requirement already satisfied: idna<3,>=2.5 in /usr/local/lib/python3.7/dist-packages (from requests<3,>=2.21.0->tensorboard<2.9,>=2.8->tensorflow) (2.10)\n",
            "Requirement already satisfied: certifi>=2017.4.17 in /usr/local/lib/python3.7/dist-packages (from requests<3,>=2.21.0->tensorboard<2.9,>=2.8->tensorflow) (2022.5.18.1)\n",
            "Requirement already satisfied: urllib3!=1.25.0,!=1.25.1,<1.26,>=1.21.1 in /usr/local/lib/python3.7/dist-packages (from requests<3,>=2.21.0->tensorboard<2.9,>=2.8->tensorflow) (1.24.3)\n",
            "Requirement already satisfied: oauthlib>=3.0.0 in /usr/local/lib/python3.7/dist-packages (from requests-oauthlib>=0.7.0->google-auth-oauthlib<0.5,>=0.4.1->tensorboard<2.9,>=2.8->tensorflow) (3.2.0)\n"
          ]
        }
      ]
    },
    {
      "cell_type": "code",
      "execution_count": 2,
      "metadata": {
        "id": "zBNRyXtZ5bj1"
      },
      "outputs": [],
      "source": [
        "import pandas as pd\n",
        "import matplotlib.pyplot as plt"
      ]
    },
    {
      "cell_type": "code",
      "source": [
        "linkedinsentimentdata = pd.read_csv(\"/content/linkedin sentiment data annotatedd 2.csv\")\n",
        "linkedinsentimentdata.head(10)"
      ],
      "metadata": {
        "colab": {
          "base_uri": "https://localhost:8080/",
          "height": 578
        },
        "id": "3YaYYX1B5m95",
        "outputId": "8d5c9f36-54f2-4db1-c064-845737707548"
      },
      "execution_count": 4,
      "outputs": [
        {
          "output_type": "execute_result",
          "data": {
            "text/plain": [
              "   Ad Number                                Position  \\\n",
              "0          1                      Department Manager   \n",
              "1          2               Head of Software Engineer   \n",
              "2          3                 Freelance Data Engineer   \n",
              "3          4  Tedarik Zinciri Genel Müdür Yardımcısı   \n",
              "4          5             Yeni Nesil Kariyer Deneyimi   \n",
              "5          6   Proje Stajyeri (İş Sağlığı Güvenliği)   \n",
              "6          7   Dağıtım Kanalları Üniversite Stajyeri   \n",
              "7          8       İnsan Kaynakları Uzman Yardımcısı   \n",
              "8          9                           Data Engineer   \n",
              "9         10                          Veri Analitiği   \n",
              "\n",
              "                            Category  \\\n",
              "0              Manager/director/head   \n",
              "1                        Engineering   \n",
              "2                        Engineering   \n",
              "3  Manager/director/head (assistant)   \n",
              "4                   Teaching/Teacher   \n",
              "5                         Internship   \n",
              "6                         Internship   \n",
              "7  Manager/director/head (assistant)   \n",
              "8                        Engineering   \n",
              "9                        Engineering   \n",
              "\n",
              "                                        Requirements  \\\n",
              "0  Lisans Derecesi ve üç yıllık perakende deneyim...   \n",
              "1  Orta ölçekli bir yazılım geliştirme ekibine li...   \n",
              "2  Yazılım geliştirmede üç yılı aşkın profesyonel...   \n",
              "3  Stratejik Planlama ve hedef yayılım metotların...   \n",
              "4  Türkiye’deki üniversitelerde veya T.C. vatanda...   \n",
              "5  Eczacıbaşı Holding olarak yurtiçi ve yurtdışın...   \n",
              "6  Satış ve dijital projelerin kurgulanması ve ha...   \n",
              "7  Üniversitelerin Mühendislik veya Sosyal Biliml...   \n",
              "8  Üniversitelerin Mühendislik bölümlerinden mezu...   \n",
              "9  Üniversitelerin dört yıllık bölümlerinden mezu...   \n",
              "\n",
              "                              Requirements_processed Sentiment  \\\n",
              "0  lisans derecesi ve üç yıllık perakende deneyim...  positive   \n",
              "1  orta ölçekli bir yazılım geliştirme ekibine li...  positive   \n",
              "2  yazılım geliştirmede üç yılı aşkın profesyonel...  positive   \n",
              "3  stratejik planlama ve hedef yayılım metotların...  positive   \n",
              "4  türkiye’deki üniversitelerde veya t.c. vatanda...  negative   \n",
              "5  eczacıbaşı holding olarak yurtiçi ve yurtdışın...   neutral   \n",
              "6  satış ve dijital projelerin kurgulanması ve ha...   neutral   \n",
              "7  üniversitelerin mühendislik veya sosyal biliml...  positive   \n",
              "8  üniversitelerin mühendislik bölümlerinden mezu...  positive   \n",
              "9  üniversitelerin dört yıllık bölümlerinden mezu...   neutral   \n",
              "\n",
              "         Domination  \n",
              "0    male-dominated  \n",
              "1    male-dominated  \n",
              "2    male-dominated  \n",
              "3    male-dominated  \n",
              "4  female-dominated  \n",
              "5           neutral  \n",
              "6           neutral  \n",
              "7    male-dominated  \n",
              "8    male-dominated  \n",
              "9    male-dominated  "
            ],
            "text/html": [
              "\n",
              "  <div id=\"df-94d3aba9-15f7-4e6a-ae32-2b850a9ee6c5\">\n",
              "    <div class=\"colab-df-container\">\n",
              "      <div>\n",
              "<style scoped>\n",
              "    .dataframe tbody tr th:only-of-type {\n",
              "        vertical-align: middle;\n",
              "    }\n",
              "\n",
              "    .dataframe tbody tr th {\n",
              "        vertical-align: top;\n",
              "    }\n",
              "\n",
              "    .dataframe thead th {\n",
              "        text-align: right;\n",
              "    }\n",
              "</style>\n",
              "<table border=\"1\" class=\"dataframe\">\n",
              "  <thead>\n",
              "    <tr style=\"text-align: right;\">\n",
              "      <th></th>\n",
              "      <th>Ad Number</th>\n",
              "      <th>Position</th>\n",
              "      <th>Category</th>\n",
              "      <th>Requirements</th>\n",
              "      <th>Requirements_processed</th>\n",
              "      <th>Sentiment</th>\n",
              "      <th>Domination</th>\n",
              "    </tr>\n",
              "  </thead>\n",
              "  <tbody>\n",
              "    <tr>\n",
              "      <th>0</th>\n",
              "      <td>1</td>\n",
              "      <td>Department Manager</td>\n",
              "      <td>Manager/director/head</td>\n",
              "      <td>Lisans Derecesi ve üç yıllık perakende deneyim...</td>\n",
              "      <td>lisans derecesi ve üç yıllık perakende deneyim...</td>\n",
              "      <td>positive</td>\n",
              "      <td>male-dominated</td>\n",
              "    </tr>\n",
              "    <tr>\n",
              "      <th>1</th>\n",
              "      <td>2</td>\n",
              "      <td>Head of Software Engineer</td>\n",
              "      <td>Engineering</td>\n",
              "      <td>Orta ölçekli bir yazılım geliştirme ekibine li...</td>\n",
              "      <td>orta ölçekli bir yazılım geliştirme ekibine li...</td>\n",
              "      <td>positive</td>\n",
              "      <td>male-dominated</td>\n",
              "    </tr>\n",
              "    <tr>\n",
              "      <th>2</th>\n",
              "      <td>3</td>\n",
              "      <td>Freelance Data Engineer</td>\n",
              "      <td>Engineering</td>\n",
              "      <td>Yazılım geliştirmede üç yılı aşkın profesyonel...</td>\n",
              "      <td>yazılım geliştirmede üç yılı aşkın profesyonel...</td>\n",
              "      <td>positive</td>\n",
              "      <td>male-dominated</td>\n",
              "    </tr>\n",
              "    <tr>\n",
              "      <th>3</th>\n",
              "      <td>4</td>\n",
              "      <td>Tedarik Zinciri Genel Müdür Yardımcısı</td>\n",
              "      <td>Manager/director/head (assistant)</td>\n",
              "      <td>Stratejik Planlama ve hedef yayılım metotların...</td>\n",
              "      <td>stratejik planlama ve hedef yayılım metotların...</td>\n",
              "      <td>positive</td>\n",
              "      <td>male-dominated</td>\n",
              "    </tr>\n",
              "    <tr>\n",
              "      <th>4</th>\n",
              "      <td>5</td>\n",
              "      <td>Yeni Nesil Kariyer Deneyimi</td>\n",
              "      <td>Teaching/Teacher</td>\n",
              "      <td>Türkiye’deki üniversitelerde veya T.C. vatanda...</td>\n",
              "      <td>türkiye’deki üniversitelerde veya t.c. vatanda...</td>\n",
              "      <td>negative</td>\n",
              "      <td>female-dominated</td>\n",
              "    </tr>\n",
              "    <tr>\n",
              "      <th>5</th>\n",
              "      <td>6</td>\n",
              "      <td>Proje Stajyeri (İş Sağlığı Güvenliği)</td>\n",
              "      <td>Internship</td>\n",
              "      <td>Eczacıbaşı Holding olarak yurtiçi ve yurtdışın...</td>\n",
              "      <td>eczacıbaşı holding olarak yurtiçi ve yurtdışın...</td>\n",
              "      <td>neutral</td>\n",
              "      <td>neutral</td>\n",
              "    </tr>\n",
              "    <tr>\n",
              "      <th>6</th>\n",
              "      <td>7</td>\n",
              "      <td>Dağıtım Kanalları Üniversite Stajyeri</td>\n",
              "      <td>Internship</td>\n",
              "      <td>Satış ve dijital projelerin kurgulanması ve ha...</td>\n",
              "      <td>satış ve dijital projelerin kurgulanması ve ha...</td>\n",
              "      <td>neutral</td>\n",
              "      <td>neutral</td>\n",
              "    </tr>\n",
              "    <tr>\n",
              "      <th>7</th>\n",
              "      <td>8</td>\n",
              "      <td>İnsan Kaynakları Uzman Yardımcısı</td>\n",
              "      <td>Manager/director/head (assistant)</td>\n",
              "      <td>Üniversitelerin Mühendislik veya Sosyal Biliml...</td>\n",
              "      <td>üniversitelerin mühendislik veya sosyal biliml...</td>\n",
              "      <td>positive</td>\n",
              "      <td>male-dominated</td>\n",
              "    </tr>\n",
              "    <tr>\n",
              "      <th>8</th>\n",
              "      <td>9</td>\n",
              "      <td>Data Engineer</td>\n",
              "      <td>Engineering</td>\n",
              "      <td>Üniversitelerin Mühendislik bölümlerinden mezu...</td>\n",
              "      <td>üniversitelerin mühendislik bölümlerinden mezu...</td>\n",
              "      <td>positive</td>\n",
              "      <td>male-dominated</td>\n",
              "    </tr>\n",
              "    <tr>\n",
              "      <th>9</th>\n",
              "      <td>10</td>\n",
              "      <td>Veri Analitiği</td>\n",
              "      <td>Engineering</td>\n",
              "      <td>Üniversitelerin dört yıllık bölümlerinden mezu...</td>\n",
              "      <td>üniversitelerin dört yıllık bölümlerinden mezu...</td>\n",
              "      <td>neutral</td>\n",
              "      <td>male-dominated</td>\n",
              "    </tr>\n",
              "  </tbody>\n",
              "</table>\n",
              "</div>\n",
              "      <button class=\"colab-df-convert\" onclick=\"convertToInteractive('df-94d3aba9-15f7-4e6a-ae32-2b850a9ee6c5')\"\n",
              "              title=\"Convert this dataframe to an interactive table.\"\n",
              "              style=\"display:none;\">\n",
              "        \n",
              "  <svg xmlns=\"http://www.w3.org/2000/svg\" height=\"24px\"viewBox=\"0 0 24 24\"\n",
              "       width=\"24px\">\n",
              "    <path d=\"M0 0h24v24H0V0z\" fill=\"none\"/>\n",
              "    <path d=\"M18.56 5.44l.94 2.06.94-2.06 2.06-.94-2.06-.94-.94-2.06-.94 2.06-2.06.94zm-11 1L8.5 8.5l.94-2.06 2.06-.94-2.06-.94L8.5 2.5l-.94 2.06-2.06.94zm10 10l.94 2.06.94-2.06 2.06-.94-2.06-.94-.94-2.06-.94 2.06-2.06.94z\"/><path d=\"M17.41 7.96l-1.37-1.37c-.4-.4-.92-.59-1.43-.59-.52 0-1.04.2-1.43.59L10.3 9.45l-7.72 7.72c-.78.78-.78 2.05 0 2.83L4 21.41c.39.39.9.59 1.41.59.51 0 1.02-.2 1.41-.59l7.78-7.78 2.81-2.81c.8-.78.8-2.07 0-2.86zM5.41 20L4 18.59l7.72-7.72 1.47 1.35L5.41 20z\"/>\n",
              "  </svg>\n",
              "      </button>\n",
              "      \n",
              "  <style>\n",
              "    .colab-df-container {\n",
              "      display:flex;\n",
              "      flex-wrap:wrap;\n",
              "      gap: 12px;\n",
              "    }\n",
              "\n",
              "    .colab-df-convert {\n",
              "      background-color: #E8F0FE;\n",
              "      border: none;\n",
              "      border-radius: 50%;\n",
              "      cursor: pointer;\n",
              "      display: none;\n",
              "      fill: #1967D2;\n",
              "      height: 32px;\n",
              "      padding: 0 0 0 0;\n",
              "      width: 32px;\n",
              "    }\n",
              "\n",
              "    .colab-df-convert:hover {\n",
              "      background-color: #E2EBFA;\n",
              "      box-shadow: 0px 1px 2px rgba(60, 64, 67, 0.3), 0px 1px 3px 1px rgba(60, 64, 67, 0.15);\n",
              "      fill: #174EA6;\n",
              "    }\n",
              "\n",
              "    [theme=dark] .colab-df-convert {\n",
              "      background-color: #3B4455;\n",
              "      fill: #D2E3FC;\n",
              "    }\n",
              "\n",
              "    [theme=dark] .colab-df-convert:hover {\n",
              "      background-color: #434B5C;\n",
              "      box-shadow: 0px 1px 3px 1px rgba(0, 0, 0, 0.15);\n",
              "      filter: drop-shadow(0px 1px 2px rgba(0, 0, 0, 0.3));\n",
              "      fill: #FFFFFF;\n",
              "    }\n",
              "  </style>\n",
              "\n",
              "      <script>\n",
              "        const buttonEl =\n",
              "          document.querySelector('#df-94d3aba9-15f7-4e6a-ae32-2b850a9ee6c5 button.colab-df-convert');\n",
              "        buttonEl.style.display =\n",
              "          google.colab.kernel.accessAllowed ? 'block' : 'none';\n",
              "\n",
              "        async function convertToInteractive(key) {\n",
              "          const element = document.querySelector('#df-94d3aba9-15f7-4e6a-ae32-2b850a9ee6c5');\n",
              "          const dataTable =\n",
              "            await google.colab.kernel.invokeFunction('convertToInteractive',\n",
              "                                                     [key], {});\n",
              "          if (!dataTable) return;\n",
              "\n",
              "          const docLinkHtml = 'Like what you see? Visit the ' +\n",
              "            '<a target=\"_blank\" href=https://colab.research.google.com/notebooks/data_table.ipynb>data table notebook</a>'\n",
              "            + ' to learn more about interactive tables.';\n",
              "          element.innerHTML = '';\n",
              "          dataTable['output_type'] = 'display_data';\n",
              "          await google.colab.output.renderOutput(dataTable, element);\n",
              "          const docLink = document.createElement('div');\n",
              "          docLink.innerHTML = docLinkHtml;\n",
              "          element.appendChild(docLink);\n",
              "        }\n",
              "      </script>\n",
              "    </div>\n",
              "  </div>\n",
              "  "
            ]
          },
          "metadata": {},
          "execution_count": 4
        }
      ]
    },
    {
      "cell_type": "code",
      "source": [
        "sentiment_linkedin = linkedinsentimentdata[[\"Requirements_processed\",\"Sentiment\"]]\n",
        "\n",
        "print(sentiment_linkedin.shape)\n",
        "sentiment_linkedin.head(5)"
      ],
      "metadata": {
        "colab": {
          "base_uri": "https://localhost:8080/",
          "height": 221
        },
        "id": "o3o4nsxo51rt",
        "outputId": "08b7fe27-f727-48b8-d7a6-7ebda04a1180"
      },
      "execution_count": 6,
      "outputs": [
        {
          "output_type": "stream",
          "name": "stdout",
          "text": [
            "(100, 2)\n"
          ]
        },
        {
          "output_type": "execute_result",
          "data": {
            "text/plain": [
              "                              Requirements_processed Sentiment\n",
              "0  lisans derecesi ve üç yıllık perakende deneyim...  positive\n",
              "1  orta ölçekli bir yazılım geliştirme ekibine li...  positive\n",
              "2  yazılım geliştirmede üç yılı aşkın profesyonel...  positive\n",
              "3  stratejik planlama ve hedef yayılım metotların...  positive\n",
              "4  türkiye’deki üniversitelerde veya t.c. vatanda...  negative"
            ],
            "text/html": [
              "\n",
              "  <div id=\"df-608221d1-6cc4-451e-b47d-bfa1ce52605a\">\n",
              "    <div class=\"colab-df-container\">\n",
              "      <div>\n",
              "<style scoped>\n",
              "    .dataframe tbody tr th:only-of-type {\n",
              "        vertical-align: middle;\n",
              "    }\n",
              "\n",
              "    .dataframe tbody tr th {\n",
              "        vertical-align: top;\n",
              "    }\n",
              "\n",
              "    .dataframe thead th {\n",
              "        text-align: right;\n",
              "    }\n",
              "</style>\n",
              "<table border=\"1\" class=\"dataframe\">\n",
              "  <thead>\n",
              "    <tr style=\"text-align: right;\">\n",
              "      <th></th>\n",
              "      <th>Requirements_processed</th>\n",
              "      <th>Sentiment</th>\n",
              "    </tr>\n",
              "  </thead>\n",
              "  <tbody>\n",
              "    <tr>\n",
              "      <th>0</th>\n",
              "      <td>lisans derecesi ve üç yıllık perakende deneyim...</td>\n",
              "      <td>positive</td>\n",
              "    </tr>\n",
              "    <tr>\n",
              "      <th>1</th>\n",
              "      <td>orta ölçekli bir yazılım geliştirme ekibine li...</td>\n",
              "      <td>positive</td>\n",
              "    </tr>\n",
              "    <tr>\n",
              "      <th>2</th>\n",
              "      <td>yazılım geliştirmede üç yılı aşkın profesyonel...</td>\n",
              "      <td>positive</td>\n",
              "    </tr>\n",
              "    <tr>\n",
              "      <th>3</th>\n",
              "      <td>stratejik planlama ve hedef yayılım metotların...</td>\n",
              "      <td>positive</td>\n",
              "    </tr>\n",
              "    <tr>\n",
              "      <th>4</th>\n",
              "      <td>türkiye’deki üniversitelerde veya t.c. vatanda...</td>\n",
              "      <td>negative</td>\n",
              "    </tr>\n",
              "  </tbody>\n",
              "</table>\n",
              "</div>\n",
              "      <button class=\"colab-df-convert\" onclick=\"convertToInteractive('df-608221d1-6cc4-451e-b47d-bfa1ce52605a')\"\n",
              "              title=\"Convert this dataframe to an interactive table.\"\n",
              "              style=\"display:none;\">\n",
              "        \n",
              "  <svg xmlns=\"http://www.w3.org/2000/svg\" height=\"24px\"viewBox=\"0 0 24 24\"\n",
              "       width=\"24px\">\n",
              "    <path d=\"M0 0h24v24H0V0z\" fill=\"none\"/>\n",
              "    <path d=\"M18.56 5.44l.94 2.06.94-2.06 2.06-.94-2.06-.94-.94-2.06-.94 2.06-2.06.94zm-11 1L8.5 8.5l.94-2.06 2.06-.94-2.06-.94L8.5 2.5l-.94 2.06-2.06.94zm10 10l.94 2.06.94-2.06 2.06-.94-2.06-.94-.94-2.06-.94 2.06-2.06.94z\"/><path d=\"M17.41 7.96l-1.37-1.37c-.4-.4-.92-.59-1.43-.59-.52 0-1.04.2-1.43.59L10.3 9.45l-7.72 7.72c-.78.78-.78 2.05 0 2.83L4 21.41c.39.39.9.59 1.41.59.51 0 1.02-.2 1.41-.59l7.78-7.78 2.81-2.81c.8-.78.8-2.07 0-2.86zM5.41 20L4 18.59l7.72-7.72 1.47 1.35L5.41 20z\"/>\n",
              "  </svg>\n",
              "      </button>\n",
              "      \n",
              "  <style>\n",
              "    .colab-df-container {\n",
              "      display:flex;\n",
              "      flex-wrap:wrap;\n",
              "      gap: 12px;\n",
              "    }\n",
              "\n",
              "    .colab-df-convert {\n",
              "      background-color: #E8F0FE;\n",
              "      border: none;\n",
              "      border-radius: 50%;\n",
              "      cursor: pointer;\n",
              "      display: none;\n",
              "      fill: #1967D2;\n",
              "      height: 32px;\n",
              "      padding: 0 0 0 0;\n",
              "      width: 32px;\n",
              "    }\n",
              "\n",
              "    .colab-df-convert:hover {\n",
              "      background-color: #E2EBFA;\n",
              "      box-shadow: 0px 1px 2px rgba(60, 64, 67, 0.3), 0px 1px 3px 1px rgba(60, 64, 67, 0.15);\n",
              "      fill: #174EA6;\n",
              "    }\n",
              "\n",
              "    [theme=dark] .colab-df-convert {\n",
              "      background-color: #3B4455;\n",
              "      fill: #D2E3FC;\n",
              "    }\n",
              "\n",
              "    [theme=dark] .colab-df-convert:hover {\n",
              "      background-color: #434B5C;\n",
              "      box-shadow: 0px 1px 3px 1px rgba(0, 0, 0, 0.15);\n",
              "      filter: drop-shadow(0px 1px 2px rgba(0, 0, 0, 0.3));\n",
              "      fill: #FFFFFF;\n",
              "    }\n",
              "  </style>\n",
              "\n",
              "      <script>\n",
              "        const buttonEl =\n",
              "          document.querySelector('#df-608221d1-6cc4-451e-b47d-bfa1ce52605a button.colab-df-convert');\n",
              "        buttonEl.style.display =\n",
              "          google.colab.kernel.accessAllowed ? 'block' : 'none';\n",
              "\n",
              "        async function convertToInteractive(key) {\n",
              "          const element = document.querySelector('#df-608221d1-6cc4-451e-b47d-bfa1ce52605a');\n",
              "          const dataTable =\n",
              "            await google.colab.kernel.invokeFunction('convertToInteractive',\n",
              "                                                     [key], {});\n",
              "          if (!dataTable) return;\n",
              "\n",
              "          const docLinkHtml = 'Like what you see? Visit the ' +\n",
              "            '<a target=\"_blank\" href=https://colab.research.google.com/notebooks/data_table.ipynb>data table notebook</a>'\n",
              "            + ' to learn more about interactive tables.';\n",
              "          element.innerHTML = '';\n",
              "          dataTable['output_type'] = 'display_data';\n",
              "          await google.colab.output.renderOutput(dataTable, element);\n",
              "          const docLink = document.createElement('div');\n",
              "          docLink.innerHTML = docLinkHtml;\n",
              "          element.appendChild(docLink);\n",
              "        }\n",
              "      </script>\n",
              "    </div>\n",
              "  </div>\n",
              "  "
            ]
          },
          "metadata": {},
          "execution_count": 6
        }
      ]
    },
    {
      "cell_type": "code",
      "source": [
        "sentiment_linkedin.columns"
      ],
      "metadata": {
        "colab": {
          "base_uri": "https://localhost:8080/"
        },
        "id": "7FYT724q53QW",
        "outputId": "76178448-52bc-48e0-8ab7-68db79902d78"
      },
      "execution_count": 7,
      "outputs": [
        {
          "output_type": "execute_result",
          "data": {
            "text/plain": [
              "Index(['Requirements_processed', 'Sentiment'], dtype='object')"
            ]
          },
          "metadata": {},
          "execution_count": 7
        }
      ]
    },
    {
      "cell_type": "code",
      "source": [
        "sentiment_linkedin = sentiment_linkedin[sentiment_linkedin[\"Sentiment\"] != 'neutral']\n",
        "\n",
        "print(sentiment_linkedin.shape)\n",
        "sentiment_linkedin.head(5)"
      ],
      "metadata": {
        "colab": {
          "base_uri": "https://localhost:8080/",
          "height": 221
        },
        "id": "GBUdDvEa55UL",
        "outputId": "99d45806-d278-4b0b-ab3e-8a45082273ef"
      },
      "execution_count": 8,
      "outputs": [
        {
          "output_type": "stream",
          "name": "stdout",
          "text": [
            "(90, 2)\n"
          ]
        },
        {
          "output_type": "execute_result",
          "data": {
            "text/plain": [
              "                              Requirements_processed Sentiment\n",
              "0  lisans derecesi ve üç yıllık perakende deneyim...  positive\n",
              "1  orta ölçekli bir yazılım geliştirme ekibine li...  positive\n",
              "2  yazılım geliştirmede üç yılı aşkın profesyonel...  positive\n",
              "3  stratejik planlama ve hedef yayılım metotların...  positive\n",
              "4  türkiye’deki üniversitelerde veya t.c. vatanda...  negative"
            ],
            "text/html": [
              "\n",
              "  <div id=\"df-3bde3b01-219b-4caf-9217-b7a49e8cd621\">\n",
              "    <div class=\"colab-df-container\">\n",
              "      <div>\n",
              "<style scoped>\n",
              "    .dataframe tbody tr th:only-of-type {\n",
              "        vertical-align: middle;\n",
              "    }\n",
              "\n",
              "    .dataframe tbody tr th {\n",
              "        vertical-align: top;\n",
              "    }\n",
              "\n",
              "    .dataframe thead th {\n",
              "        text-align: right;\n",
              "    }\n",
              "</style>\n",
              "<table border=\"1\" class=\"dataframe\">\n",
              "  <thead>\n",
              "    <tr style=\"text-align: right;\">\n",
              "      <th></th>\n",
              "      <th>Requirements_processed</th>\n",
              "      <th>Sentiment</th>\n",
              "    </tr>\n",
              "  </thead>\n",
              "  <tbody>\n",
              "    <tr>\n",
              "      <th>0</th>\n",
              "      <td>lisans derecesi ve üç yıllık perakende deneyim...</td>\n",
              "      <td>positive</td>\n",
              "    </tr>\n",
              "    <tr>\n",
              "      <th>1</th>\n",
              "      <td>orta ölçekli bir yazılım geliştirme ekibine li...</td>\n",
              "      <td>positive</td>\n",
              "    </tr>\n",
              "    <tr>\n",
              "      <th>2</th>\n",
              "      <td>yazılım geliştirmede üç yılı aşkın profesyonel...</td>\n",
              "      <td>positive</td>\n",
              "    </tr>\n",
              "    <tr>\n",
              "      <th>3</th>\n",
              "      <td>stratejik planlama ve hedef yayılım metotların...</td>\n",
              "      <td>positive</td>\n",
              "    </tr>\n",
              "    <tr>\n",
              "      <th>4</th>\n",
              "      <td>türkiye’deki üniversitelerde veya t.c. vatanda...</td>\n",
              "      <td>negative</td>\n",
              "    </tr>\n",
              "  </tbody>\n",
              "</table>\n",
              "</div>\n",
              "      <button class=\"colab-df-convert\" onclick=\"convertToInteractive('df-3bde3b01-219b-4caf-9217-b7a49e8cd621')\"\n",
              "              title=\"Convert this dataframe to an interactive table.\"\n",
              "              style=\"display:none;\">\n",
              "        \n",
              "  <svg xmlns=\"http://www.w3.org/2000/svg\" height=\"24px\"viewBox=\"0 0 24 24\"\n",
              "       width=\"24px\">\n",
              "    <path d=\"M0 0h24v24H0V0z\" fill=\"none\"/>\n",
              "    <path d=\"M18.56 5.44l.94 2.06.94-2.06 2.06-.94-2.06-.94-.94-2.06-.94 2.06-2.06.94zm-11 1L8.5 8.5l.94-2.06 2.06-.94-2.06-.94L8.5 2.5l-.94 2.06-2.06.94zm10 10l.94 2.06.94-2.06 2.06-.94-2.06-.94-.94-2.06-.94 2.06-2.06.94z\"/><path d=\"M17.41 7.96l-1.37-1.37c-.4-.4-.92-.59-1.43-.59-.52 0-1.04.2-1.43.59L10.3 9.45l-7.72 7.72c-.78.78-.78 2.05 0 2.83L4 21.41c.39.39.9.59 1.41.59.51 0 1.02-.2 1.41-.59l7.78-7.78 2.81-2.81c.8-.78.8-2.07 0-2.86zM5.41 20L4 18.59l7.72-7.72 1.47 1.35L5.41 20z\"/>\n",
              "  </svg>\n",
              "      </button>\n",
              "      \n",
              "  <style>\n",
              "    .colab-df-container {\n",
              "      display:flex;\n",
              "      flex-wrap:wrap;\n",
              "      gap: 12px;\n",
              "    }\n",
              "\n",
              "    .colab-df-convert {\n",
              "      background-color: #E8F0FE;\n",
              "      border: none;\n",
              "      border-radius: 50%;\n",
              "      cursor: pointer;\n",
              "      display: none;\n",
              "      fill: #1967D2;\n",
              "      height: 32px;\n",
              "      padding: 0 0 0 0;\n",
              "      width: 32px;\n",
              "    }\n",
              "\n",
              "    .colab-df-convert:hover {\n",
              "      background-color: #E2EBFA;\n",
              "      box-shadow: 0px 1px 2px rgba(60, 64, 67, 0.3), 0px 1px 3px 1px rgba(60, 64, 67, 0.15);\n",
              "      fill: #174EA6;\n",
              "    }\n",
              "\n",
              "    [theme=dark] .colab-df-convert {\n",
              "      background-color: #3B4455;\n",
              "      fill: #D2E3FC;\n",
              "    }\n",
              "\n",
              "    [theme=dark] .colab-df-convert:hover {\n",
              "      background-color: #434B5C;\n",
              "      box-shadow: 0px 1px 3px 1px rgba(0, 0, 0, 0.15);\n",
              "      filter: drop-shadow(0px 1px 2px rgba(0, 0, 0, 0.3));\n",
              "      fill: #FFFFFF;\n",
              "    }\n",
              "  </style>\n",
              "\n",
              "      <script>\n",
              "        const buttonEl =\n",
              "          document.querySelector('#df-3bde3b01-219b-4caf-9217-b7a49e8cd621 button.colab-df-convert');\n",
              "        buttonEl.style.display =\n",
              "          google.colab.kernel.accessAllowed ? 'block' : 'none';\n",
              "\n",
              "        async function convertToInteractive(key) {\n",
              "          const element = document.querySelector('#df-3bde3b01-219b-4caf-9217-b7a49e8cd621');\n",
              "          const dataTable =\n",
              "            await google.colab.kernel.invokeFunction('convertToInteractive',\n",
              "                                                     [key], {});\n",
              "          if (!dataTable) return;\n",
              "\n",
              "          const docLinkHtml = 'Like what you see? Visit the ' +\n",
              "            '<a target=\"_blank\" href=https://colab.research.google.com/notebooks/data_table.ipynb>data table notebook</a>'\n",
              "            + ' to learn more about interactive tables.';\n",
              "          element.innerHTML = '';\n",
              "          dataTable['output_type'] = 'display_data';\n",
              "          await google.colab.output.renderOutput(dataTable, element);\n",
              "          const docLink = document.createElement('div');\n",
              "          docLink.innerHTML = docLinkHtml;\n",
              "          element.appendChild(docLink);\n",
              "        }\n",
              "      </script>\n",
              "    </div>\n",
              "  </div>\n",
              "  "
            ]
          },
          "metadata": {},
          "execution_count": 8
        }
      ]
    },
    {
      "cell_type": "code",
      "source": [
        "sentiment_linkedin[\"Sentiment\"].value_counts()"
      ],
      "metadata": {
        "colab": {
          "base_uri": "https://localhost:8080/"
        },
        "id": "nLHKoWK-57aS",
        "outputId": "196308d3-67dd-4cd6-b186-0f548c0c370c"
      },
      "execution_count": 9,
      "outputs": [
        {
          "output_type": "execute_result",
          "data": {
            "text/plain": [
              "negative    45\n",
              "positive    44\n",
              "Name: Sentiment, dtype: int64"
            ]
          },
          "metadata": {},
          "execution_count": 9
        }
      ]
    },
    {
      "cell_type": "code",
      "source": [
        "sentiment_label = sentiment_linkedin.Sentiment.factorize()    #converting categorical values to numerical\n",
        "sentiment_label                                               # 0 represents positive 1 represents negative here"
      ],
      "metadata": {
        "colab": {
          "base_uri": "https://localhost:8080/"
        },
        "id": "Bd8_OlKf5935",
        "outputId": "de5dc210-8373-4a2e-effd-69f80bf24f40"
      },
      "execution_count": 10,
      "outputs": [
        {
          "output_type": "execute_result",
          "data": {
            "text/plain": [
              "(array([ 0,  0,  0,  0,  1,  0,  0,  0,  1,  0,  0,  1,  1,  1,  1,  1,  1,\n",
              "         1,  1,  1,  1,  0,  0,  0,  1,  1,  0,  0,  1,  1,  0,  0,  0,  0,\n",
              "         0,  0,  0,  0,  0,  0,  0,  0,  1,  1,  1,  1,  1,  1,  1,  1,  1,\n",
              "         1,  1,  1,  1,  0,  1,  1,  1,  0,  0,  0,  0,  0,  0,  0,  0,  0,\n",
              "         0,  0,  0,  0,  0, -1,  0,  0,  0,  1,  1,  1,  1,  1,  1,  1,  1,\n",
              "         1,  1,  1,  1,  1]), Index(['positive', 'negative'], dtype='object'))"
            ]
          },
          "metadata": {},
          "execution_count": 10
        }
      ]
    },
    {
      "cell_type": "code",
      "source": [
        "sentiment_linkedin"
      ],
      "metadata": {
        "colab": {
          "base_uri": "https://localhost:8080/",
          "height": 419
        },
        "id": "wtxr5tWE7L7e",
        "outputId": "e50a82f4-6c40-4b59-dff3-1aebd56d58f3"
      },
      "execution_count": 11,
      "outputs": [
        {
          "output_type": "execute_result",
          "data": {
            "text/plain": [
              "                               Requirements_processed Sentiment\n",
              "0   lisans derecesi ve üç yıllık perakende deneyim...  positive\n",
              "1   orta ölçekli bir yazılım geliştirme ekibine li...  positive\n",
              "2   yazılım geliştirmede üç yılı aşkın profesyonel...  positive\n",
              "3   stratejik planlama ve hedef yayılım metotların...  positive\n",
              "4   türkiye’deki üniversitelerde veya t.c. vatanda...  negative\n",
              "..                                                ...       ...\n",
              "95  tıbbi terminolojisi olan insan ilişkilerinde b...  negative\n",
              "96  çok iyi derecede word excel bilgisine sahip bi...  negative\n",
              "97  çok iyi seviyede ms office veya excell bilgisi...  negative\n",
              "98       yirmi beş-otuz beş yaş arası deneyimli bayan  negative\n",
              "99   üniversitelerin ilgili bölümlerinden mezun ak...  negative\n",
              "\n",
              "[90 rows x 2 columns]"
            ],
            "text/html": [
              "\n",
              "  <div id=\"df-3739d2b8-ada6-4ae1-83c2-96134d4a6444\">\n",
              "    <div class=\"colab-df-container\">\n",
              "      <div>\n",
              "<style scoped>\n",
              "    .dataframe tbody tr th:only-of-type {\n",
              "        vertical-align: middle;\n",
              "    }\n",
              "\n",
              "    .dataframe tbody tr th {\n",
              "        vertical-align: top;\n",
              "    }\n",
              "\n",
              "    .dataframe thead th {\n",
              "        text-align: right;\n",
              "    }\n",
              "</style>\n",
              "<table border=\"1\" class=\"dataframe\">\n",
              "  <thead>\n",
              "    <tr style=\"text-align: right;\">\n",
              "      <th></th>\n",
              "      <th>Requirements_processed</th>\n",
              "      <th>Sentiment</th>\n",
              "    </tr>\n",
              "  </thead>\n",
              "  <tbody>\n",
              "    <tr>\n",
              "      <th>0</th>\n",
              "      <td>lisans derecesi ve üç yıllık perakende deneyim...</td>\n",
              "      <td>positive</td>\n",
              "    </tr>\n",
              "    <tr>\n",
              "      <th>1</th>\n",
              "      <td>orta ölçekli bir yazılım geliştirme ekibine li...</td>\n",
              "      <td>positive</td>\n",
              "    </tr>\n",
              "    <tr>\n",
              "      <th>2</th>\n",
              "      <td>yazılım geliştirmede üç yılı aşkın profesyonel...</td>\n",
              "      <td>positive</td>\n",
              "    </tr>\n",
              "    <tr>\n",
              "      <th>3</th>\n",
              "      <td>stratejik planlama ve hedef yayılım metotların...</td>\n",
              "      <td>positive</td>\n",
              "    </tr>\n",
              "    <tr>\n",
              "      <th>4</th>\n",
              "      <td>türkiye’deki üniversitelerde veya t.c. vatanda...</td>\n",
              "      <td>negative</td>\n",
              "    </tr>\n",
              "    <tr>\n",
              "      <th>...</th>\n",
              "      <td>...</td>\n",
              "      <td>...</td>\n",
              "    </tr>\n",
              "    <tr>\n",
              "      <th>95</th>\n",
              "      <td>tıbbi terminolojisi olan insan ilişkilerinde b...</td>\n",
              "      <td>negative</td>\n",
              "    </tr>\n",
              "    <tr>\n",
              "      <th>96</th>\n",
              "      <td>çok iyi derecede word excel bilgisine sahip bi...</td>\n",
              "      <td>negative</td>\n",
              "    </tr>\n",
              "    <tr>\n",
              "      <th>97</th>\n",
              "      <td>çok iyi seviyede ms office veya excell bilgisi...</td>\n",
              "      <td>negative</td>\n",
              "    </tr>\n",
              "    <tr>\n",
              "      <th>98</th>\n",
              "      <td>yirmi beş-otuz beş yaş arası deneyimli bayan</td>\n",
              "      <td>negative</td>\n",
              "    </tr>\n",
              "    <tr>\n",
              "      <th>99</th>\n",
              "      <td>üniversitelerin ilgili bölümlerinden mezun ak...</td>\n",
              "      <td>negative</td>\n",
              "    </tr>\n",
              "  </tbody>\n",
              "</table>\n",
              "<p>90 rows × 2 columns</p>\n",
              "</div>\n",
              "      <button class=\"colab-df-convert\" onclick=\"convertToInteractive('df-3739d2b8-ada6-4ae1-83c2-96134d4a6444')\"\n",
              "              title=\"Convert this dataframe to an interactive table.\"\n",
              "              style=\"display:none;\">\n",
              "        \n",
              "  <svg xmlns=\"http://www.w3.org/2000/svg\" height=\"24px\"viewBox=\"0 0 24 24\"\n",
              "       width=\"24px\">\n",
              "    <path d=\"M0 0h24v24H0V0z\" fill=\"none\"/>\n",
              "    <path d=\"M18.56 5.44l.94 2.06.94-2.06 2.06-.94-2.06-.94-.94-2.06-.94 2.06-2.06.94zm-11 1L8.5 8.5l.94-2.06 2.06-.94-2.06-.94L8.5 2.5l-.94 2.06-2.06.94zm10 10l.94 2.06.94-2.06 2.06-.94-2.06-.94-.94-2.06-.94 2.06-2.06.94z\"/><path d=\"M17.41 7.96l-1.37-1.37c-.4-.4-.92-.59-1.43-.59-.52 0-1.04.2-1.43.59L10.3 9.45l-7.72 7.72c-.78.78-.78 2.05 0 2.83L4 21.41c.39.39.9.59 1.41.59.51 0 1.02-.2 1.41-.59l7.78-7.78 2.81-2.81c.8-.78.8-2.07 0-2.86zM5.41 20L4 18.59l7.72-7.72 1.47 1.35L5.41 20z\"/>\n",
              "  </svg>\n",
              "      </button>\n",
              "      \n",
              "  <style>\n",
              "    .colab-df-container {\n",
              "      display:flex;\n",
              "      flex-wrap:wrap;\n",
              "      gap: 12px;\n",
              "    }\n",
              "\n",
              "    .colab-df-convert {\n",
              "      background-color: #E8F0FE;\n",
              "      border: none;\n",
              "      border-radius: 50%;\n",
              "      cursor: pointer;\n",
              "      display: none;\n",
              "      fill: #1967D2;\n",
              "      height: 32px;\n",
              "      padding: 0 0 0 0;\n",
              "      width: 32px;\n",
              "    }\n",
              "\n",
              "    .colab-df-convert:hover {\n",
              "      background-color: #E2EBFA;\n",
              "      box-shadow: 0px 1px 2px rgba(60, 64, 67, 0.3), 0px 1px 3px 1px rgba(60, 64, 67, 0.15);\n",
              "      fill: #174EA6;\n",
              "    }\n",
              "\n",
              "    [theme=dark] .colab-df-convert {\n",
              "      background-color: #3B4455;\n",
              "      fill: #D2E3FC;\n",
              "    }\n",
              "\n",
              "    [theme=dark] .colab-df-convert:hover {\n",
              "      background-color: #434B5C;\n",
              "      box-shadow: 0px 1px 3px 1px rgba(0, 0, 0, 0.15);\n",
              "      filter: drop-shadow(0px 1px 2px rgba(0, 0, 0, 0.3));\n",
              "      fill: #FFFFFF;\n",
              "    }\n",
              "  </style>\n",
              "\n",
              "      <script>\n",
              "        const buttonEl =\n",
              "          document.querySelector('#df-3739d2b8-ada6-4ae1-83c2-96134d4a6444 button.colab-df-convert');\n",
              "        buttonEl.style.display =\n",
              "          google.colab.kernel.accessAllowed ? 'block' : 'none';\n",
              "\n",
              "        async function convertToInteractive(key) {\n",
              "          const element = document.querySelector('#df-3739d2b8-ada6-4ae1-83c2-96134d4a6444');\n",
              "          const dataTable =\n",
              "            await google.colab.kernel.invokeFunction('convertToInteractive',\n",
              "                                                     [key], {});\n",
              "          if (!dataTable) return;\n",
              "\n",
              "          const docLinkHtml = 'Like what you see? Visit the ' +\n",
              "            '<a target=\"_blank\" href=https://colab.research.google.com/notebooks/data_table.ipynb>data table notebook</a>'\n",
              "            + ' to learn more about interactive tables.';\n",
              "          element.innerHTML = '';\n",
              "          dataTable['output_type'] = 'display_data';\n",
              "          await google.colab.output.renderOutput(dataTable, element);\n",
              "          const docLink = document.createElement('div');\n",
              "          docLink.innerHTML = docLinkHtml;\n",
              "          element.appendChild(docLink);\n",
              "        }\n",
              "      </script>\n",
              "    </div>\n",
              "  </div>\n",
              "  "
            ]
          },
          "metadata": {},
          "execution_count": 11
        }
      ]
    },
    {
      "cell_type": "code",
      "source": [
        "corpus = sentiment_linkedin.Requirements_processed.values        #converting the text into an array of vector embeddings"
      ],
      "metadata": {
        "id": "CSlwYqF86BCO"
      },
      "execution_count": 12,
      "outputs": []
    },
    {
      "cell_type": "code",
      "source": [
        "corpus"
      ],
      "metadata": {
        "colab": {
          "base_uri": "https://localhost:8080/"
        },
        "id": "NUTo9_Jr7QYx",
        "outputId": "dbefe1fd-e1a8-4edf-9a77-7d1f8c103874"
      },
      "execution_count": 13,
      "outputs": [
        {
          "output_type": "execute_result",
          "data": {
            "text/plain": [
              "array([\"lisans derecesi ve üç yıllık perakende deneyimi veya derece yerine dört yıllık perakende deneyimi en az bir yıllık yönetim deneyimi koçluk ve mentorluk deneyimi perakende yönetiminde kanıtlanabilir deneyim ingilizce iletişim kurabilme perakende iş sistemlerini kullanabilme ve microsoft office'i kullanmak hafta sonları akşamları ve tatil günlerinde gerektiği gibi çalışabilme\",\n",
              "       'orta ölçekli bir yazılım geliştirme ekibine liderlik eden büyümeyi çeşitliliği teşvik eden ilham veren ve güçlendiren üç yılı aşkın deneyim yazılım mühendisliğinde beş ve üzeri yıllık deneyim güçlü performans yönetimi ilkeleri insanları geliştirme konusunda kanıtlanmış geçmiş performans uzak çok kültürlü ekipleri yönetme deneyimi',\n",
              "       \"yazılım geliştirmede üç yılı aşkın profesyonel deneyim python ve pandalar ile çalışma deneyimi dağıtılmış hesaplama ve veri modellemenin temel ilkelerine aşinalık mühendislik yazılım platformları ve veri altyapıları dahil olmak üzere nesne yönelimli tasarım ve kodlama ve test modelleriyle ilgili kapsamlı deneyim airflow ve luigi ile çalışma deneyimi büyük bir artı scala ile çalışma deneyimi bir artıdır google cloud platform'a aşinalık boyutsal modelleme ve raylar ile çalışma deneyimi bir artıdır üstün iletişim ve kişilerarası beceriler tam zamanlı müsaitlik\",\n",
              "       'stratejik planlama ve hedef yayılım metotlarını etkin kullanan satış operasyon planlama  süreçlerine hakim liderlik becerileri güçlü farklı lokasyonlardaki ekipleri yönetme ve denetleme konularında yetenekli dinamik yenilikçi ve takım çalışmasına yatkın analitik düşünme ve problem çözme yeteneği gelişmiş çözüm odaklı planlama ve iş takip yeteneğine sahip değişim yönetimi becerilerine ve stratejik bakış açısına sahip iletişimi güçlü ikna ve müzakere berileri yüksek analitik raporlama ve planlama becerisi yüksek detaylara hakim disiplinli sorumluluk sahibi ve iş aidiyeti yüksek',\n",
              "       'türkiye’deki üniversitelerde veya t.c. vatandaşı olarak yurtdışındaki üniversitelerde okuyan üçüncü ve dördüncü sınıf öğrencisiysen tercihen mühendislik veya iktisadi ve idari bilimler fakültelerinde okuyorsan bu yaz stajın için fırsat arıyorsan\\nçok iyi derecede ingilizce biliyorsan öğrenmeye hevesli yeniliklere açık ve gelişim odaklıysan iyi bir takım oyuncusu olduğunu düşünüyorsan online veya hibrit çalışma modelleri ile iş hayatını deneyimlemek istiyorsan',\n",
              "       'üniversitelerin mühendislik veya sosyal bilimler veya  iktisadi ve idari bilimler bölümlerinden mezun insan kaynakları alanında kariyer hedefleyen ileri seviyede yazılı ve sözlü ingilizce bilgisine sahip ms office programlarını iyi seviyede kullanabilen kalite ve detay odaklı güçlü analitik düşünme planlama ve organizasyon yetkinliklerine sahip güçlü iletişim ve iş birliği becerilerine sahip değişime ve gelişime açık seyahat engeli olmayan izmir’de veya istanbul’da ikamet eden',\n",
              "       'üniversitelerin mühendislik bölümlerinden mezun ssis ile etl işleri geliştirme konusunda en az iki yıl deneyimli odi senaryolarında ftp mail gönderim vb. bileşenleri kullanmış knowledge modüller konusunda bilgi sahibi iyi derecede mssql bilgisine sahip ayrıca nosql tarafında da tecrübe edinmiş  performans iyileştirme çalışmalarında bulunmuş tercihen flink spark ve kafka gibi açık kaynak veri teknolojileribulut tabanlı veri ambarları özellikle redshift bigquery veya snowflake apache airflow argo workflow gibi orkestrasyon aws ve athena glue lambda ve hudi iceberg delta lake gibi data lake tablo formatları konusunda deneyimli öğrenmeye açık alanındaki gelişmeleri takip eden takım çalışmasına yatkın çevik metodolojiler konusunda bilgi sahibi analiz yeteneği yüksek veriyi anlamlandırma konusunda yetkin literatürü takip edecek ve problem çözümü destek çalışmalarında üreticilerin yurtdışı kaynakları ile iletişim kurabilecek düzeyde ingilizce bilen',\n",
              "       'analiz yapma raporlama ve istatistiksel veri oluşturma yeteneklerine sahip ileri derecede ingilizce bilen aktif kullanan ms office programlarını özellikle exceli iyi derecede kullanabilen üniversitelerin ilgili bölümlerinden mezun konusunda en az iki yıl tecrübeli tercihen saha ekiplerinden bilgi alarak rapor oluşturma konusunda tecrübeli saha ekibi yönetebilecek iletişim becerileri güçlü yeni teknolojiler hakkında bilgi sahibi takım çalışmasına yatkın iletişim yeteneği güçlü takipçi çözüm üretebilen pratik ve analitik düşünebilen sistemli ve düzenli çalışan erkek adaylar için askerlik görevini tamamlamış',\n",
              "       'avrupa afrika ve ortadoğu piyasasında mevcut distribütörlerle iş geliştirme ve yeni distribütörlükler oluşturarak pazar elde edilmesi yurtdışı satış toplantı ve organizasyonlarını lojistik ve evrak süreçlerini organize edilmesi herhangi bir iş tecrübesi zorunluluğu yoktur iyi derecede yazılı ve sözlü ingilizce bilgisi bulunan\\nms office programlarını kullanabilen raporlama ve crm işlerini yürütebilecek kendi müşteri portföyünün operasyon işlerini yapacak takip edecek ve gerektiğinde firmanın eski müşteri portföyünün işlerinine yardımcı olacak prezantabl kişisel gelişimine önem veren ve iş hayatında enerjisiyle aktif kişiliğe sahip\\nseyahat engeli bulunmayan gümrük işlemleri ve ihracat/ithalat lojistik organizasyonlarla alakalı sorumlulukların yerine getirilmesi yurtdışı ürün satışında tüm ihracat operasyonlarını yerine getirmek ihracatı yapılan ürünlere ait tüm resmi kurumlarla olan süreçleri yerine getirmek yurt dışındaki dış pazarlara yönelik piyasa araştırması yapacak',\n",
              "       'üniversitelerin tercihen mühendislik bölümünlerinden mezun satış alanında tecrübeli yüksek iletişim becerisine sahip hedef ve sonuç odaklı çalışan tercihen iyi derecede ingilizce bilen aktif olarak araç kullanabilen motivasyonu yüksek takım çalışmasına uyumlu ve öğrenmeye açık izmir’de ikamet eden veya edebilecek olan',\n",
              "       'üniversitelerin mühendislik bölümlerinden mezun analitik düşünebilen iletişim becerisi yüksek problem çözme becerileri gelişmiş sonuç odaklı tercihen iyi derecede ingilizce bilen iyi derecede ofis programlarını kullanabilen',\n",
              "       'tecrübeli veya tecrübesiz kocaelide ikamet eden tercihen myo herhangi bölümünden mezun yirmi-kırk yaşları arasında bayan',\n",
              "       ' en az lise tercihen myo veya üniversite mezunu başlangıç düzeyde ingilizce iletişim becerisine sahip bilgisayar bilgisine sahip ms office uygulamalarına hakim iletişim becerileri güçlü diksiyonu iyi dış görünümüne özen gösteren dinamik motivasyonu yüksek ve güleryüzlü insan ilişkileri kuvvetli konuksever misafir memnuniyeti odaklı bayan ',\n",
              "       'hadımköy arnavutköy bölgesinde ikamet eden  ekip çalışmasına uygun prenzentabl on sekiz-kırk yaş aralığında ofis düzenini ve temizliğini sağlayacak  güler yüzlü',\n",
              "       'tercihen kadıköy veya yakın bölgede ikamet eden minimum iki yıl iş tecrübesine sahip office programlarına hakim ve aktif kullanabilen sorumluluk bilinci yüksek takipçi ve iş temposuna uyum sağlayabilen sözlü ve yazılı iletişim yeteneği kuvvetli diksiyonu düzgün güler yüzlü akıcı ve anlaşılır konuşan en az ön lisans ve üzeri mezuniyet durumuna sahip',\n",
              "       'güler yüzlü iletişimi kuvvetli ekip çalışmasına yatkın dış görünümüne ve kişisel bakımına özen gösteren hasta ve hasta yakınları ile etkili iletişim kurabilme becerisine sahip kadın',\n",
              "       'kişisel bakım ve hijyenine önem veren ahlaki değerler ve iş disiplinine sahip a ve b shiftlerinne çalışabilecek ingilizce diline ve otel programlarına hakim tc vatandaşı ',\n",
              "       'turizm ve otelcilik eğitimi veren üniversite veya meslek yüksek okulu ya da turizm meslek lisesi mezunu iyi derecede ingilizce bilen benzer pozisyonda en az iki yıl tecrübe sahibi ms office uygulamalarına hakim otelcilik programlarını kullanabilen ekip çalışmasına yatkın güler yüzlü pozitif dış görünümüne özen gösteren insan ilişkilerinde başarılı iletişim ve problem çözme becerisi yüksek askerlik hizmetini tamamlamış',\n",
              "       'bizimle çalışacak sekreteryadan sorumlu olacak satış ve teklif raporlarını gün sonu hazırlayacak ve çay kahve servisi yapacak bayan',\n",
              "       'tercihen bilişim sektöründe çalışmış bayan dış görünüşüne özen gösteren diksiyonu düzgün ve güler yüzlü ekip çalışmasına uyumlu\\nhedefi olan kariyer düşünen tercihen yabancı dil bilen office programlarına hakim üniversite halkla ilişkiler veya benzer bölümlerden mezun',\n",
              "       'kaliteli bakım ve eğitime dair net bir anlayışa sahip olmak ve çocuk gelişimi hakkında kapsamlı bir bilgiye sahip olmak tercihen min. üç ila dört yaş arası çocuklarla iki yıllık öğretmenlik deneyimi kadın enerjik yaratıcı ve yüksek motivasyonlu dinamik ve eğlenceli bir eğitim ortamında çalışmaya istekli kişisel ve mesleki bütünlük ve gizlilik göstermek türkçeyi anlamak ve konuşmak ',\n",
              "       'önde gelen üniversitelerin inşaat mühendisliği bölümünden mezun iyi derecede ingilizce dil bilgisine sahip b sınıfı sürücü ehliyetine sahip erkek adaylar için askerlik hizmetini tamamlamış seyahat engeli bulunmayan iyi seviyede etkin yazma ve okuma yetisine sahip autocad etaps vb. mesleki programları ve excel word gibi ms ofis programlarını kullanabilen ekip içerisinde saha şantiye ve ofis ortamında çalışmaya uygun öğrenmeye açık ve iyileştirme gayretlerine olumlu yaklaşan üretken iş yapmaya ve sorumluluk üstlenmeye hevesli üstlendiği işi kendi başına sürükleyebilecek iç motivasyonu yüksek mesleki paylaşıma ve işbirliğine açık kişilik özelliklerinde olmak tercihen üç-beş yıllık bir deneyime sahip tercihen iki-üç yıl endüstriyel tesis tecrübesine sahip tercihen sektörü bilen bir endüstriyel tesis yapım işinde görev almış',\n",
              "       'soğuk hava deposu tesislerinde tecrübeli bandırmada ikamet eden veya edebilecek olan endüstriyel tesislerde görev almış en az 10 yıl tecrübeli üniversite mezunu statik hesap yapabilecek proje okuyabilen iyileştirme ve öneri sunabilecek',\n",
              "       'dış ticaret operasyonunda bilgi sahibi pazarlama satış personeli erkek üniversite mezunu askerlikle ilişiği kesilmiş akıcı ingilizce konuşma yeteneği olan hızlı düşünen aktif dış ticaret pazarlamasında üç yıl tecrübesi bulunan stres yönetiminde başarılı bahçeşehir civarında oturan',\n",
              "       'üniversitelerin mühendislik bölümlerinden mezun teklif ve satış süreçlerini titizlikle takip edebilen sorumluluk sahibi düzenli çalışmayı seven insan ilişkileri kuvvetli müşteri odaklı düşünebilen yurt içi seyahat engeli bulunmayan istanbul başakşehirde çalışacak bayan',\n",
              "       'prezantabl etkin iletişim becerisine sahip genç dinamik ve güler yüzlü vardiyalı sistemde çalışabilir bayan',\n",
              "       'üniversitelerin mühendislik bölümlerinden mezun ssis ile etl işleri geliştirme konusunda en az iki yıl deneyimli odi senaryolarında ftp ve mail gönderim vb. bileşenleri kullanmış knowledge modüller konusunda bilgi sahibi\\niyi derecede mssql bilgisine sahip ayrıca nosql tarafında da tecrübe edinmiş performans iyileştirme çalışmalarında bulunmuş tercihen flink spark ve kafka gibi açık kaynak veri teknolojileri ve bulut tabanlı veri ambarları özellikle redshift bigquery veya snowflake apache airflow argo workflow gibi orkestrasyon aws ve athena glue lambda ve hudi iceberg delta lake gibi data lake tablo formatları konusunda deneyimli öğrenmeye açık alanındaki gelişmeleri takip eden takım çalışmasına yatkın çevik metodolojiler konusunda bilgi sahibi analiz yeteneği yüksek veriyi anlamlandırma konusunda yetkin literatürü takip edecek ve problem çözümü destek çalışmalarında üreticilerin yurtdışı kaynakları ile iletişim kurabilecek düzeyde ingilizce bilen',\n",
              "       \"verilen görevlendirmelere özen göstermesi ve saha çalışmasını buna göre programlaması yapılan ölçüm kontrol ve muayeneleri raporlayabilmesi şehirdışı seyahat engeli olmaması sık seyahat edilmesi gereken dönemsel çalışmalara uyum sağlayabilmesi şehiriçi ve şehirlerarası araç kullanabilmesi b sınıfı ehliyet sahibi ms office programlarını etkin olarak kullanabilmesi raporlama ve arşivleme konusunda titiz olarak çalışabilmesi mesai saatleri form doldurma ve kalite sistemi gibi konularda titiz olan kalite yönetim sistemleri konusunda bilgi sahibi olması akredite bir firmada çalışmanın sorumluluğunda olabilmesi iş sağlığı ve güvenliği mevzuatına uygun çalışabilmesi firmanın kaliteli hizmet geleneğine bağlılığı gösterebilmesi takım çalışmasına yatkın olması iyi iletişim kurabilmesi öğrenmeye açık olması çalışma programının yoğunluğuna bağlı olarak mesai saatleri dışında ve haftasonları çalışmaya uyum sağlaması mekanik kontroller için başvuracak uzmanların tercihen makine mühendisleri odası'ndan ya da tse'de ilgili eğitim belgelerine sahip olması\",\n",
              "       'diksiyonu düzgün dış görünüşüne özen gösteren ekip çalışmasına yatkın esnek çalışma saatlerine uygun ingilizce bilen',\n",
              "       'tercihen ağız ve diş sağlığı teknikerliği bölümlerinden mezun alanında en az bir yıl tecrübe sahibi hasta ve hasta yakını iletişimi kuvvetli kişisel hijyen tedbirlerine uyum gösterebilecek dış görünüşüne özen gösteren problem çözme ve alternatif çözüm yolları üretme yeteneğine sahip ekip çalışmasına yatkın hasta takibi yapıp randevuları düzenleyebilecek sterilizasyona özen gösterecek ekipman ve cihazları her an kullanıma hazır tutacak detaylara önem verip hiçbir detayı atlamayacak güler yüzlü olup hastaları teskin edecek',\n",
              "       'işletme reklamcılık pazarlama mühendislik veya diğer ilgili alanlarda lisans derecesi üç ve üzeri yıllık hesap yönetimi veya marka yönetimi deneyimi işi ve satış misyonunu ve rollerini iyi anlamak büyük hesapları yönetmede güçlü başarı sicili influencer pazarlama sosyal medya medya planlama veya bir fmcg şirketinde deneyim tercih sebebidir etkileyici pazarlama ekosistemi ve metrikleri hakkında güçlü bir anlayış mükemmel proje yönetimi ve müşteri yönetimi becerilerine sahip stratejik düşünür tüm karar verme düzeylerinde geniş bir insan yelpazesiyle başarılı projeler yürütme becerisi güçlü iş yargısı başkalarını etkilemek için kanıtlanmış yetenek bir sosyal medya ajansı medya planlama ajansı veya bir fmcg şirketinde deneyim tercih sebebidir güçlü analitik beceriler güçlü müzakere becerileri harika iletişimci yaratıcı zihin takım oyuncusu disiplinli kapsayıcı saygılı olumlu tutum çözüm odaklı mükemmel iletişim becerileri tam mesleki yeterlilik',\n",
              "       'elektrik makine veya endüstri mühendisliği lisans derecesi fransızca veya ingilizce sözlü ve yazılı akıcılık en az iki yıl proje yönetimi sözleşme yönetimi veya enerji jeneratör tercihen trafo alanında iş geliştirme deneyimi güçlü sözlü ve yazılı iletişim becerileri ve güçlü kişilerarası ve liderlik becerileri aynı anda birkaç projeyi koordine etme yeteneği problemleri analiz etme ve çözme yeteneğinin gösterilmesi',\n",
              "       'üniversitelerin tercihen iktisat işletme maliye vb. bölümlerinden mezun genel muhasebe ve bordro uygulamalarında en az üç yıl deneyimli microsoft office programlarını iyi düzeyde kullanabilen tek düzen muhasebe hesap planı ve vergi uygulamaları konusuna hakim vergi mevzuatına hakim b sınıfı sürücü belgesine sahip iletişim becerileri güçlü çözüm odaklı ve ekip çalışmasına yatkın',\n",
              "       'üniversitelerin ilgili bölümlerinden mezun iyi derecede ingilizce bilen ve aktif olarak kullanabilen karayolu satış tecrübesine sahip minimum bir yıl ilgili alanlarda satış ve portföy yönetimi tecrübesine sahip operasyon süreçlerinin yanı sıra satış odaklı çalışabilecek iletişimi kuvvetli değişime ve gelişime açık analitik düşünme ve hızlı karar verme yeteneğine sahip takım çalışması ve yoğun iş temposuna yatkın temsil yeteneği kuvvetli ms office uygulamalarına hakim erkek adaylar için askerlik görevi tamamlanmış',\n",
              "       'ana dili ingilizce olan ve çok dilli türk vatandaşlığı satış ve pazarlama konusunda deneyimli ve ilgili tercihen bir sağlık turizmi acentesinde en az iki yıl çalışmış hasta ve hedef odaklı ekip çalışmasına yatkın verilen tüm görevleri içinde bulunarak tamamlayabilen yönetici ile sürekli iletişim halinde online ve uzaktan çalışabilen iletişim becerileri kuvvetli telefonda ifade ve ikna kabiliyeti kuvvetli sağlık turizmi alanında kendini geliştirebilecek telefonla kesintisiz hasta iletişimi sağlayabilecek yüzyüze ve çevrimiçi',\n",
              "       'üniversitelerin dört yıllık bölümlerinden veya iki yıllık yüksek okulların sigortacılık bankacılık ile ilgili bölümlerinden mezun tercihen segem ve bireysel emeklilik sertifika sahibi sigortacılık veya bankacılık sektöründe en az bir yıl satış alanında tecrübeli temsil kabiliyetine sahip kendini geliştirmeye ve öğrenmeye açık dinamik girişken ve başarı odaklı iletişim yeteneği gelişmiş takım çalışmasına yatkın müşteri ve ilişki yönetiminde kendine güvenen ms office programlarını iyi seviyede kullanabilen seyahat engeli olmayan erkek adaylar için askerlik görevini tamamlamış',\n",
              "       'üniversitelerin ilgili bölümlerinden mezun tercihen gıda ve ambalaj sektöründe deneyimli  iletişim yönü kuvvetli seyahat engeli olmayan ikna kabiliyeti yüksek tercihen en az iki yıl tecrübeli tercihen ingilizce bilen ms office programlarına hakim takım çalışmasına yatkın erkek adaylar için askerlikle ilişiği olmayan',\n",
              "       'üniversitelerin işletme pazarlama veya mühendislik bölümlerinden mezun satış alanında kariyer hedefi olan girişken ve dış görünüşe önem veren tercihen makine plc ve otomasyon sistemleri ile alakalı bilgi sahibi tercihen ingilizce bilen ikna kabiliyeti yüksek satış odaklı sorgulama ve araştırma yapabilen diksiyonu düzgün analitik düşünme yetisine sahip çözüm odaklı ve ekip çalışmasına uyumlu iş disiplini ve motivasyonu yüksek b sınıfı ehliyeti olan aktif araç kullanabilen ve seyahat engeli olmayan otuz beş yaşını aşmamış esnek çalışma saatlerine uyum sağlayabilecek iş takibi ve sonuçlandırılması konusunda başarılı ve sorumluluk sahibi erkek adaylar için askerlik hizmetini tamamlamış sakarya’da ikamet eden',\n",
              "       'ilgili alanda bir yıldan fazla deneyim mükemmel kişilerarası becerilerle birlikte bağımsız çalışma yeteneği satış müzakere ve iletişim becerileri güçlü microsoft ofisi ve satış araçlarına aşina ingilizce ',\n",
              "       'alüminyum sektöründe daha önce çalışmış daha önce şirketlerin satış departmanlarında çalışmış ve deneyimli iyi derecede office programlarına hakim erp kullanım konusunda deneyimli özgüveni yüksek girişken diksiyonu düzgün ve dış görünümüne dikkat eden satış ve satış sonrası tüm süreçlere hakim olan proaktif hızlı aksiyon alabilen yurtiçi seyehat engeli olmayan sadece beylikdüzü ve çevre ilçelerden',\n",
              "       'üniversite mezunu tercihen işletme elektrik elektronik tercihen kesintisiz güç kaynağı veya endüstriyel ürünler sektöründe tecrübe sahibi satış ve pazarlama konularında minimum beş yıl tecrübesi bulunan seyahat engeli bulunmayan iş disiplinini önemseyen sorumluluk sahibi takım çalışmasına yatkın ms office programlarına hâkim erkek adaylar için askerlik görevini tamamlamış',\n",
              "       'üniversitelerin ilgili bölümlerinden mezun tercihen daha önce beş yıldızlı otellerde deneyim sahibi ileri derecede ingilizce bilen dış görünüşüne özen gösteren diksiyonu düzgün proaktif düşünce yapısına sahip vardiyalı çalışabilecek güler yüzlü kişisel gelişimine özen gösteren erkek adaylar için askerlik hizmetini tamamlamış planlama ve organizasyon becerisi yüksek yazılı ve sözlü iletişim dahil olmak üzere mükemmel müşteri hizmetleri becerisi sergileyen sorumluluk ve disiplin sahibiekip çalışmasına uyum sağlayan birden fazla görevi önceliklendirme ve yönetme yeteneğine sahip',\n",
              "       'tercihen lise yüksek okul veya üniversitelerin turizm ve otelcilik bölümlerinden mezun ingilizce bilen aynı pozisyonda minimum bir yıl tecrübeli tercihen elektra ön büro programını kullanabilen çözüm odaklı yaklaşıma sahip problem çözme kabiliyeti yüksek güler yüzlü çalışmayı ilke edinmiş esnek çalışma saatlerine ayak uydurabilecek dış görünümüne önem veren',\n",
              "       'tercihen üniversitelerin turizm otelcilik meslek yüksekokulu mezunu konusunda en az iki yıl tecrübeli ingilizceyi iyi derecede kullanabilen ms office programlarına hakim tercihen elektraweb otelcilik programı bilen vardiyalı çalışabilecek güler yüzlü pozitif dış görünüşe ve kişisel öz bakımına özen gösteren insan ilişkilerinde başarılı iletişim ve problem çözme becerisi yüksek',\n",
              "       'üniversitelerin turizm otelcilik bölümlerinden mezun benzer poziyonda deneyimi olan vardiyalı olarak çalışabilecek ingilizce bilen diksiyonu düzgün iletişimi kuvvetliçözüm üretebilen takım çalışmasına uyumlu',\n",
              "       'tercihen lisans veya ön lisans mezunu planlama organizasyon ve koordinasyon becerilerine sahip iletişim problem çözme planlama becerileri gelişmiş ve ekip çalışmasına yatkın prezentabl dinamik sorumluluk sahibi ön muhasebe ve ofis yönetimi konusunda tecrübeli diksiyon yeteneği gelişmiş iş disiplinine önem veren sorumluluk sahibi iş takibi güçlü her türlü ofis sorumluluğunu alabilecek günlük ofis işlerinin yürütüp gerekli koordinasyonu sağlayacak ilgili bilgisayar programlarına hakim insan ilişkileri kuvvetli',\n",
              "       'turizm ve otelcilik alanında eğitim almış resepsiyonist olarak en az iki yıl deneyimli iyi derecede ingilizce bilgisine sahip olan opera ve mc office programlarına hakim temsil ve ikna yeteneği olan insan ilişkilerinde başarılı takım çalışmasına inanan güleryüzlü',\n",
              "       'bir öğretmen olarak kanıtlanmış deneyim okulun politikalarını ve prosedürlerini takip etme istekliliği ile ortak en iyi uygulamaları ve yasal eğitim yönergelerini öğretme konusunda kapsamlı bilgi mükemmel iletişim ve kişilerarası beceriler iyi organize edilmiş ve kararlı yaratıcı ve enerjik güçlü ahlaki değerler ve disiplin eğitim sertifikası ile öğretim veya özel bir konuda derece',\n",
              "       'lise veya önlisans çocuk gelişimi veya okul öncesi mezunu iletişim becerileri kuvvetli prezentabl güleryüzlü enrejik yaratıcı ve üretici yönü kuvvetli ekip çalışmasına ayak uydurabilen deneyimli',\n",
              "       'üniversitelerin sınıf öğretmenliği bölümünden mezunu sınıf yönetimi becerisine sahip iletişim gücü yüksek mesleğini ve çocukları seven takım çalışmasına yatkın mebbis e-okul vb. programları kullanabilen bep hazırlamayı bilen eğitim ve bilişim teknolojilerini yakından takip eden sistemli ve düzenli çalışmayı kendine ilke edinmiş ',\n",
              "       'üniversitelerin sınıf öğretmenliği bölümü mezunu pedagojik formasyon sertifikasına sahip alanında deneyim sahibi güncel mesleki gelişmeleri takip eden iletişim ve temsil yeteneği güçlü ekip çalışmasına yatkın eğitim teknolojilerini etkin olarak kullanabilen erkek adaylarda askerlik yükümlülüğü bulunmayan',\n",
              "       'full time çalışabilecek tercihen ikinci dil olarak ispanyolca bilen üniversitelerin ilgili bölümünden mezun celta tesol tefl vb sertifikalara ve pedagojik formasyona sahip olmak kaydıyla ingiliz dili ve edebiyatı mütercim tercümanlık vb. lisans bölümlerinden mezun okul öncesi eğitim kurumlarında çalışmış ms office programlarına hakim iletişimi güçlü enerjik yaratıcı güleryüzlü çocukları seven takım çalışmasına yatkın yeniliklere açık kariyer hedefi olan ve kendini geliştirmeye açık dış görünüşüne özen gösteren esnek çalışma saatlerine yatkın istanbul anadolu yakasında ikamet eden',\n",
              "       'üniversitelerin tarih tarih öğretmenliği bölümlerinden mezun pedagojik formasyon belgesine sahip milli eğitim tarafından özel öğretim kurumlarına atanma kriterlerini taşıyan alanında en az beş yıl deneyime sahip güncel sınav uygulamalarına hakim disiplinlerarası çalışmalara açık proje çalışmaları yürütmüş üretken yeniliklere ve gelişime açık vizyon sahibi kendi alanındaki mesleki gelişmeleri güncel olarak takip eden ve alanında en iyi olmayı hedefleyen çağdaş eğitim yöntem ve teknolojilerini kullanabilen iletişim becerisi kuvvetli öğrenci ve veli iletişiminde başarılı takım çalışmasına yatkın işbirlikçi öğretmenlik mesleği için heyecan duyan motivasyonu yüksek',\n",
              "       'idealist eğitim teknolojilerine hakim takım çalışmasına yatkın üniversitelerin sınıf öğretmenliği bölümünden mezun',\n",
              "       'üniversitelerin lisans bölümlerinden mezun iyi derecede yazılı ve sözlü ingilizce bilen yurt içi ve yurt dışı uçak bileti rezervasyon satış değişiklik ve iade işlemlerine hakim uçak bilet rezervasyonu ve satışı konusunda tercihen bir yıl tecrübeli tercihen amadeus ve quickres rezervasyon sistemine hakim ms office programlarına hakim\\niletişim becerileri kuvvetli ve problem çözme yeteneği güçlü müşteri memnuniyeti odaklı dinamik hızlı ve aktif bir şekilde çalışan satış alanında kariyer hedefleyen tam zamanlı ve esnek çalışma saatlerine uyum sağlayabilecek',\n",
              "       'havayolları bilet satışı konusunda en az üç yıl deneyimli insan ilişkileri kuvvetli analitik düşünce yapısına sahip problemleri çözme odaklı hareketli iş temposuna ayak uydurabilecek seyahat ile ilgili ortaya çıkan her türlü konuya hakim havayolu rezervasyon sistemleri sabre ve quikres’i iyi derecede kullanabilen ms office programlarına hakim tercihen ingilizceyi sözlü ve yazılı olarak kullanabilen erkek adaylar için askerlik görevini tamamlamış esnek çalışma saatlerine uyum sağlayabilecek',\n",
              "       'kurumsal firma ve kuruluşlara yurt dışı ve yurt içi uçak bileti hizmet konusunda en az üç yıl deneyimli amadeus quickres pegasus sun express sistemlerini çok iyi derecede kullanabilen üniversite mezunu tercihen ingilizce bilen ms office programlarını kullanabilen müşteri memnuniyeti odaklı çalışabilen sorumluluk sahibi iletişim becerileri gelişmiş ve problem çözme yeteneğine sahip takım çalışmasına yatkın vardiya sisteminde çalışabilecek',\n",
              "       'troya biletleme iptal değişiklik konusunda en az iki yıl tecrübeli pegasusquickres ve sun express sistemlerini kullanabilen müşteri ilişkilerinde başarılı iş takibi kuvvetli firma kültürüne uyabilecek müşteri odaklı ve iletişim yeteneği güçlü dakik güvenli hatasız hizmet sunan bilgisayar ve office programlarını kullanabilen askerliğini yükümlülüğünü yerine getirmiş antalya da ikamet eden yabancı dil bilgisine sahip tercihen rusca mesleki ingilizce bilen',\n",
              "       'insan ilişkilerinde başarılı güler yüzlü saygılı diksiyonu düzgün dış görünümüne önem veren kendine güvenen on sekiz-otuz beş yaş arası askerliğini yapmış veya en az bir yıl tecilli seyahat engeli olmayan',\n",
              "       'üniversitelerin dört yıllık endüstri mühendisliği bölümünden mezun en az üç yıl iş tecrübesine sahip iyi derecede ingilizce veya almanca bilen analitik düşünme ve analiz yeteneği kuvvetli erp sistemi metodolojisine hakim ms office programlarını etkin olarak kullanabilen erkek adaylar için askerlik hizmetini tamamlamış ya da muaf olan en az b sınıfı ehliyeti olan ve aktif araç kullanabilen yurtdışı seyahat engeli bulunmayan metal sektöründe üretim proseslerine hakim',\n",
              "       \"elektrik elektronik veya mekatronik mühendisliği bölümlerinden mezun olmak erkek adaylar için askerlik hizmetini tamamlamış veya muaf olmak altair fekoaltair winprop veya benzeri yüksek frekanslı elektromanyetik simülasyon araçlarının kullanımı ve uygulamasında tecrübe sahibi olmak iyi seviyede ingilizce bilmek ekip çalışmasına yatkın olmak analitik düşünme ve problem çözme yeteneğine sahip olmak kendi kendine öğrenme yoluyla uzmanlığını artırma yeteneğine sahip olmak yeni mühendislik becerilerini ve yazılımlarını hızlı ve bağımsız bir şekilde öğrenme becerisine sahip olmak seyahat engeli bulunmamak bursa'da ikamet eden veya edebilecek\",\n",
              "       'üniversitelerin mühendislik fakültelerinden mezun üretim veya endüstri sektörlerinde satış alanında iki yıl iş tecrübesine sahip tercihen sıhhi tesisat veya doğalgaz sektöründe tecrübeli yenilikçi dinamik ve motivasyonu yüksek analitik düşünebilen hızlı ve sonuç odaklı ikna kabiliyeti yüksek iletişim becerisi kuvvetli satış ve insan ilişkilerinde başarılı temsil yeteneğine sahip ms office programlarını etkin kullanabilen seyahat engeli olmayan b sınıfı sürücü ehliyeti bulunan planlama ve iş takibi konusunda disiplinli müşteri talep ve ihtiyaçlarını analiz edip müşterilere uygun çözümleri konumlandırmak dinamizme sahip iş ve takım arkadaşları ile tam uyum içinde çalışıp şirketin ürün ve hizmetleri müşterilere ulaştırmasına katkı sağlamak\\niş takibini iyi yapabilen ve sonuç odaklı enerjisi yüksek ve pozitif takım çalışmasında başarılı yazılı ve sözlü iletişim organizasyon planlama takip ve raporlama yönü kuvvetli sistemli ve düzenli çalışma prensibine sahip takipçi ve sonuç odaklı esnek çalışma saatlerine uyum sağlayabilecek',\n",
              "       'bulunduğu pozisyonda en az üç yıl bilgi ve deneyime sahip olmak dört yıllık üniversitelerin mühendislik bölümünden mezun olmak ekip çalışmasına yatkın ve sorumluluk sahibi olmak apqp konusunda bilgi sahibi olmak stres altında dikkatli ve titiz çalışabilmek ve doğru karar alabilmek ileri derecede ingilizce bilgisi',\n",
              "       \"makina otomotiv veya uçak mühendisliği bölümlerinden mezun olmak en az üç yıl sonlu eleman analizi yazılımı kullanarak projeler gerçekleştirmiş olmak erkek adaylar için askerlik hizmetini tamamlamış ya da muaf olmak iyi seviyede ingilizce bilmek yeni mühendislik becerilerini ve yazılımlarını hızlı ve bağımsız bir şekilde öğrenme becerisine sahip olmak ekip çalışmasına ve araştırmaya yatkın olmak bursa'da ikamet eden veya edebilecek\",\n",
              "       'üniversitelerin mühendislik fakültelerinden mezun tercihen elektrik elektronik mühendisi iyi derecede ingilizce bilen b sınıfı sürücü belgesine sahip ve seyahat engeli olmayan tercihen akıllı ev ve bina otomasyon sistemleri üzerine benzer pozisyonlarda çalışmış erkek adaylar için askerlik görevini yapmış iyi derecede autocad ve microsoft office bilgisine sahip temel düzeyde network ve ağ bilgisine sahip teknolojiye meraklı öğrenmeye ve gelişime açık',\n",
              "       'en az üç yıl üzeri çevre danışmanlığı çevre izni ve raporlama konularında veya atıksu arıtma tesisi işletme ve bakım konusunda tecrübeli sinop ilinde ikamet eden veya edebilecek olan seyahat engeli olmayan aktif araç kullanabilen kendini geliştiren öğrenmeye açık disiplinli çalışabilen sorumluluk sahibi çevre mevzuatlarına ve entegre çevre bilgi sistemine hakim microsoft office uygulamalarına hakim takım çalışmasına yatkın iletişim kabiliyeti yüksek analitik düşünüp çözüm odaklı çalışabilen ikna kabiliyeti yüksek insan ilişkileri güçlü',\n",
              "       'üniversitelerin endüstri mühendisliği tekstil mühendisliği fakültelerinden mezun tercihen süreç yönetimi ve yalınlaşma konularında staj tecrübeli proje yönetimi konusunda istekli öğrenmeye istekli kalite ve müşteri odaklı detaylı araştırma ve analiz becerisine sahip ekip çalışmasına yatkın yazılı ve sözlü iletişim kabiliyeti yüksek erkek adaylar için askerliğini tamamlamış ya da iki yıl tecilli',\n",
              "       'tercihen üniversitelerin mimarlık inşaat mühendisliği harita mühendisliği veya şehir ve bölge planlama bölümlerinden mezun sermaye piyasası kurulu gayrimenkul değerleme lisansına sahip tecrübe şartını yıl olarak doldurmuş ve beş yıllık tecrübe belgesine sahip mesleki uzmanlık seviyesi yüksek olan tercihen gelir getiren mülklerin saha ve kontrol çalışmalarında uzmanlaşmış sektörde öncü olan bankaların şartname ve uygulamalarına hakim türkiye’nin her bölgesinde ticari ve nitelikli raporların kontrolünü sağlamış yoğun iş temposuna adaptasyon sağlayabilen iletişim becerisi yüksek kalite ve sonuç odaklı ekip çalışmasına yatkın strese dayanıklı koordinasyon becerisi yüksek analitik düşünce ve araştırmacı yapıya sahip',\n",
              "       'işletme ekonomi muhasebe veya ilgili alanlarda lisans veya yüksek lisans derecesi minimum üç-dört yıl çalışma deneyimi iyi düzeyde yazılı ve sözlü ingilizce mükemmel düzeyde ms excel analitik ve stratejik düşünebilme sorumluluk alabilme öncelikleri belirleyebilme özenli titiz ve çözüm odaklı ısrarlı ve çalışmalarını takip ve sonuçlandırma konusunda istekli erkek adaylar için askerliğini tamamlamış',\n",
              "       \"dört yıllık üniversite derecesi kontrol veya mali denetim konusunda en az bir yıl deneyimli iyi iletişim ve müzakere becerileri kendini motive eden proaktif ve enerjik bağımsız öğrenme kapasitesi güçlü analitik problem çözme becerileri ingilizce'de mükemmel iletişim becerileri stratejik düşünen inisiyatif alan\",\n",
              "       'ekonomi finans veya mühendislik fakültelerinde saygın bir üniversiteden lisans derecesi varlık yönetimi veya banka veya menkul kıymet firmaları ekiplerinde iki yılı aşkın risk veya denetim veya iç kontrol deneyimi risk yönetimi kavramı hakkında genel bir anlayış finansal araçlar hakkında bilgi son teslim tarihleri içinde hızlı ve sıklıkla yüksek kaliteli belgeler sunan titizlik analiz ve sentez kapasitesi güçlü organizasyon becerileri detaylara dikkat proaktif ve inisiyatif kapasiteleri güvenilirlik özerklik ve dinamizm iletişim becerileri açık fikirlilik ve takım oyunculuğu ingilizce akıcılığı iyi derecede office araçları bilgisi',\n",
              "       'tercihen ekonomi veya finans alanında ba tercihen uluslararası bir fmcg şirketinde ticaret veya tedarik zinciri veya operasyon ortamında finans alanında minimum yedi yıllık deneyim maliyet fiyat hesaplamaları yatırım hesaplamaları konusunda deneyim gelişmiş excel ve powerpoint becerileri sap bilgisi doğru esnek düşünebilen zaman yönetimi becerileri yüksek analitik becerileri yüksek takım oyuncusu uygulamalı proaktif mükemmel iletişim becerileri bağımsız ve kendi kendine başlayabilen öğrenmeye ve daha fazla gelişmeye istekli aciliyet durumunda inisiyatif alabilen ufrs ve yerel gaap hakkında güncel ve derinlemesine bilgi ingilizcede akıcılık',\n",
              "       'görsel iletişim tasarımı endüstriyel tasarım grafik tasarım veya benzeri programlardan mezun başarılı ux inovasyon liderliği dahil on yılı aşkın profesyonel deneyim kullanıcı deneyimi kullanılabilirlik ürün yaşam döngüsü konularında bilgi ve deneyim figma sketch adobe xd ve adobe creative studio gibi tasarım araçlarıyla çalışma becerisi detaylara dikkat eden koçluk ve mentorluk becerilerine sahip kullanıcı merkezli karar verici çevik bir ortamda ürün ekipleriyle çalışma deneyimi mükemmel iletişim ve sunum becerileri dijital pazarlama ve marka materyalleri tasarımına ilgi duyma liderlik ileri ingilizce',\n",
              "       'ilgili alanlarda en az lisans derecesiuluslararası şirketlerde ik alanında en az üç yıl deneyim yerel iş hukuku bilgisi c&b yönetim disiplini ve işten çıkarma prosedürleri bilgisi tercihen işe alım alanında geniş deneyime sahip ve üst düzey pozisyonları işe alma konusunda başarılı deneyime sahip gelişmiş ingilizce becerileri birden çok görevi yerine getirme ve değişen önceliklere ve ihtiyaçlara uyum sağlama yeteneği',\n",
              "       'tercihen üniversitelerin ilgili lisans bölümlerinden mezun en az beş yıl atl/btl/dijital ajans deneyimi olan sosyal medya ve digital mecra uygulamaları tasarımlarına hakim yaratıcı çalışmaların fikir süreçlerinde aktif rol oynayacak yaratıcı photoshop illustrator ve iyi derecede after effect bilen hızlı çözüm üreten ve uygulama yapabilen zamanlama konusunda özenli ve disiplinli iletişim yetenekleri kuvvetli disiplinli ve düzenli çalışmayı seven',\n",
              "       'finans işletme veya ilgili diğer bölümlerde okuyan veya bu bölümlerden yeni mezun olan lisans öğrencileri haftada en az dört gün ve yaz aylarında tam zamanlı çalışabilen yazılı ve sözlü ingilizce akıcılığı iletişim becerileri güçlü detay odaklı kendi kendini organize eden ve teslim tarihlerine uygun çalışabilen muhasebe departmanında kariyer yapmayı hedefleyen',\n",
              "       'ilgili alanlarda lisans derecesi zorunlu en az dört yıllık ilgili iş deneyimi ileri düzeyde sözlü ve yazılı ingilizce ve türkçe bilgisi çözüm sunumu ve uygulamasında proje yönetimi deneyimi yeni teknolojilere ve trendlere karşı tutku sağlam bütünsel teknik bt bilgisi fmcg işi ve tedarik zinciri teknolojileri ve operasyonu konusunda deneyim düzenli teknik ve işlevsel tartışmalara öncülük etmek için güçlü paydaş yönetimi becerileri',\n",
              "       'iş yükünü önceliklendirmek ve müşteri ilişkilerinin yönetilmesi etkili bir şekilde yazılı ve sözlü iletişim kurabilmek ofis içi tertip ve düzenin sağlanması tasarım işlerine yardımcı olmak çoklu görev yeteneği ile güçlü organizasyon becerisi sahibi olmak',\n",
              "       'üniversite mezunu güçlü iletişim becerisi ileri seviyede ingilizce yazma ve konuşma becerileri olan emlak servisi yapabilme yeteneği olan prezantabl askerlik hizmetini tamamlamış veya tecilli bilgisayar programlarını kullanabilen',\n",
              "       'prezentasyon ve diksiyonu yüksek güleryüzlü sorumluluk sahibi microsoft office programlarına hakim esnek çalışma saatlerine uyum sağlayabilecek zaman yönetimi olan ve sonuç odaklı arşivleme sistemi hakkında tecrübeli en az lise mezunu tercihen ingilizce bilen',\n",
              "       'proficiency in microsoft office excellent written and verbal communication skills ability to multi-task organize and prioritize work',\n",
              "       'sözlü yazılı ve telefon iletişim becerisi yüksek insan ilişkilerinde kendine güvenen pozitif güler yüzlü diksiyonu düzgün prezentabl bilgisayar kullanabilen ms office uygulamalarına hakim grafik tasarım bilgisi olan ve sosyal medyayı iyi kullanabilen kadın',\n",
              "       'yenilikleri seven organize özerk ve kendi inisiyatiflerini takip etmeye istekli',\n",
              "       \"düzenli ve temiz çalışma ortamı seven ofis programlarını iyi derecede kullanan kibar saygılı türkçe'yi doğru kullanan zaman yönetimi cihazların bakımından sorumlu olmak\",\n",
              "       'ekip çalışmasına inanan ve gerekliliklerine göre hareket eden güçlü ikna ve iletişim becerileri olan insiyatif alabilen iletişimi kuvvetli ve diksiyonu düzgün kendine güveni yüksek çalışmayı seven',\n",
              "       'tıbbi terminolojisi olan insan ilişkilerinde başarılı bayan ',\n",
              "       'çok iyi derecede word excel bilgisine sahip bir-iki yıl muhasebe konusunda tecrübeli anadolu yakasında ikamet eden bayan',\n",
              "       'çok iyi seviyede ms office veya excell bilgisine sahip planlama ve organizasyon yeteneği gelişmiş koordinasyon ve takip becerisi yüksek iyi derecede sözlü ve yazılı iletişim becerisine sahip temsil yeteneği güçlü diksiyonu düzgün canlı pozitif ve güler yüzlü ekip çalışmasına uyum sağlayabilecek tercihen ön lisans veya lisans mezunu planlı çalışma becerisi ve alışkanlığı olan diksiyonu temsil kabiliyeti yazılı ve sözlü iletişim becerisi yüksek yönetici asistanlığı veya sekreterlik alanında tercihen iki yıl deneyimli prezantabl kendine özgüveni yüksek güler yüzlü zaman yönetimi konusunda başarılı tercihen ön muhasebe tutma konusunda tecrübe sahibi',\n",
              "       'yirmi beş-otuz beş yaş arası deneyimli bayan',\n",
              "       ' üniversitelerin ilgili bölümlerinden mezun aktif telefon akışını yönetebilecek öğrenmeye açık takım çalışmasına yatkın e fatura sistemine hakim cari hesap mutabakatlarını yapabilecek ms office programlarını aktif kullanan toplantı etkinlik ve randevuları planlayacak ithalat ve ihracat evraklarını hazırlamayı bilen'],\n",
              "      dtype=object)"
            ]
          },
          "metadata": {},
          "execution_count": 13
        }
      ]
    },
    {
      "cell_type": "code",
      "source": [
        "from tensorflow.keras.preprocessing.text import Tokenizer"
      ],
      "metadata": {
        "id": "MZx7RzQ_6DPM"
      },
      "execution_count": 14,
      "outputs": []
    },
    {
      "cell_type": "code",
      "source": [
        "from tensorflow.keras.preprocessing.sequence import pad_sequences"
      ],
      "metadata": {
        "id": "NBPByx2m6wmG"
      },
      "execution_count": 15,
      "outputs": []
    },
    {
      "cell_type": "code",
      "source": [
        "tokenizer = Tokenizer(num_words=5000)"
      ],
      "metadata": {
        "id": "heYEufdk6GGX"
      },
      "execution_count": 16,
      "outputs": []
    },
    {
      "cell_type": "code",
      "source": [
        "tokenizer.fit_on_texts(str(corpus))\n",
        "vocab_size = len(tokenizer.word_index) + 1\n",
        "encoded_docs = tokenizer.texts_to_sequences(str(corpus))\n",
        "padded_sequence = pad_sequences(encoded_docs, maxlen=200)"
      ],
      "metadata": {
        "id": "_Jiw6fos6Mot"
      },
      "execution_count": 17,
      "outputs": []
    },
    {
      "cell_type": "markdown",
      "source": [
        "## Building Text Classifier"
      ],
      "metadata": {
        "id": "gNGZ4EnlGusX"
      }
    },
    {
      "cell_type": "markdown",
      "source": [
        "For the machine learning model, LSTM layers were used. The architecture of my model consists of an embedding layer, an LSTM layer, and a Dense layer at the end. To avoid overfitting, I introduced the Dropout mechanism in-between the LSTM layers as a regularization technique. With this way, I created a robust model avoiding overfitting."
      ],
      "metadata": {
        "id": "Ovl1V1c_M_lB"
      }
    },
    {
      "cell_type": "code",
      "source": [
        "from tensorflow.keras.models import Sequential\n",
        "from tensorflow.keras.layers import LSTM,Dense, Dropout, SpatialDropout1D\n",
        "from tensorflow.keras.layers import Embedding\n",
        "\n",
        "\n",
        "embedding_vector_length = 32\n",
        "model = Sequential()\n",
        "model.add(Embedding(vocab_size, embedding_vector_length, input_length=200))\n",
        "model.add(SpatialDropout1D(0.25))\n",
        "model.add(LSTM(50, dropout=0.5, recurrent_dropout=0.5))\n",
        "model.add(Dropout(0.2))\n",
        "model.add(Dense(1, activation='sigmoid'))\n",
        "model.compile(loss='binary_crossentropy',optimizer='adam', metrics=['accuracy'])\n",
        "\n",
        "print(model.summary())"
      ],
      "metadata": {
        "id": "mLsft4iK7CUl",
        "colab": {
          "base_uri": "https://localhost:8080/"
        },
        "outputId": "5c5fb61e-5158-4f69-f98e-d26adb1c716f"
      },
      "execution_count": 18,
      "outputs": [
        {
          "output_type": "stream",
          "name": "stdout",
          "text": [
            "Model: \"sequential\"\n",
            "_________________________________________________________________\n",
            " Layer (type)                Output Shape              Param #   \n",
            "=================================================================\n",
            " embedding (Embedding)       (None, 200, 32)           1216      \n",
            "                                                                 \n",
            " spatial_dropout1d (SpatialD  (None, 200, 32)          0         \n",
            " ropout1D)                                                       \n",
            "                                                                 \n",
            " lstm (LSTM)                 (None, 50)                16600     \n",
            "                                                                 \n",
            " dropout (Dropout)           (None, 50)                0         \n",
            "                                                                 \n",
            " dense (Dense)               (None, 1)                 51        \n",
            "                                                                 \n",
            "=================================================================\n",
            "Total params: 17,867\n",
            "Trainable params: 17,867\n",
            "Non-trainable params: 0\n",
            "_________________________________________________________________\n",
            "None\n"
          ]
        }
      ]
    },
    {
      "cell_type": "markdown",
      "source": [
        "## Training Sentiment Analysis Model"
      ],
      "metadata": {
        "id": "wi5wtWUAMjWC"
      }
    },
    {
      "cell_type": "code",
      "source": [
        "import numpy as np"
      ],
      "metadata": {
        "id": "D3qrreqzOabg"
      },
      "execution_count": 19,
      "outputs": []
    },
    {
      "cell_type": "code",
      "source": [
        "history = model.fit(padded_sequence, sentiment_label[0],validation_split= 0.2, epochs=10, batch_size=32)"
      ],
      "metadata": {
        "id": "JlxbtEKMMnoX"
      },
      "execution_count": null,
      "outputs": []
    },
    {
      "cell_type": "code",
      "source": [
        "import matplotlib.pyplot as plt\n",
        "\n",
        "plt.plot(history.history['accuracy'], label='acc')\n",
        "plt.plot(history.history['val_accuracy'], label='val_acc')\n",
        "plt.legend()\n",
        "plt.show()\n",
        "\n",
        "plt.savefig(\"Accuracy plot.jpg\")"
      ],
      "metadata": {
        "id": "pOFJm-95QU5Z"
      },
      "execution_count": null,
      "outputs": []
    },
    {
      "cell_type": "code",
      "source": [
        "plt.plot(history.history['loss'], label='loss')\n",
        "plt.plot(history.history['val_loss'], label='val_loss')\n",
        "\n",
        "plt.legend()\n",
        "plt.show()\n",
        "\n",
        "plt.savefig(\"Loss plt.jpg\")"
      ],
      "metadata": {
        "id": "MnlWiC0uQbrj"
      },
      "execution_count": null,
      "outputs": []
    },
    {
      "cell_type": "code",
      "source": [
        "def predict_sentiment(text):\n",
        "    tw = tokenizer.texts_to_sequences([text])\n",
        "    tw = pad_sequences(tw,maxlen=200)\n",
        "    prediction = int(model.predict(tw).round().item())\n",
        "    print(\"Predicted label: \", sentiment_label[1][prediction])\n",
        "\n",
        "\n",
        "test_sentence1 = input(\"Insert the job ad here to check whether it is masculine or feminine: \")\n",
        "predict_sentiment(test_sentence1)"
      ],
      "metadata": {
        "colab": {
          "base_uri": "https://localhost:8080/"
        },
        "id": "AeXqFIkNQq4_",
        "outputId": "ea62e7cc-c5f0-4544-cfa0-0a4daca6e9b1"
      },
      "execution_count": 26,
      "outputs": [
        {
          "output_type": "stream",
          "name": "stdout",
          "text": [
            "Insert the job ad here to check whether it is masculine or feminine: bayan\n",
            "Predicted label:  negative\n"
          ]
        }
      ]
    }
  ]
}